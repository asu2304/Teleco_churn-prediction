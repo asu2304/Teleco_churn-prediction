{
 "cells": [
  {
   "cell_type": "code",
   "execution_count": 270,
   "id": "cd1d76fe",
   "metadata": {},
   "outputs": [],
   "source": [
    "import pandas as pd\n",
    "import numpy as np\n",
    "import matplotlib.pyplot as plt\n",
    "import seaborn as sns"
   ]
  },
  {
   "cell_type": "markdown",
   "id": "dea89e81",
   "metadata": {},
   "source": [
    "## Classification models:\n",
    "to predict weather or not a person would leave based off some input features \n",
    "\n",
    "target: To perform the logistic and Knn algo on Teleco-churn dataset to compare bw the two."
   ]
  },
  {
   "cell_type": "code",
   "execution_count": 271,
   "id": "39dc7561",
   "metadata": {},
   "outputs": [],
   "source": [
    "df = pd.read_csv(\"churn_logistic.csv\")"
   ]
  },
  {
   "cell_type": "code",
   "execution_count": 272,
   "id": "29e15b98",
   "metadata": {},
   "outputs": [
    {
     "data": {
      "text/html": [
       "<div>\n",
       "<style scoped>\n",
       "    .dataframe tbody tr th:only-of-type {\n",
       "        vertical-align: middle;\n",
       "    }\n",
       "\n",
       "    .dataframe tbody tr th {\n",
       "        vertical-align: top;\n",
       "    }\n",
       "\n",
       "    .dataframe thead th {\n",
       "        text-align: right;\n",
       "    }\n",
       "</style>\n",
       "<table border=\"1\" class=\"dataframe\">\n",
       "  <thead>\n",
       "    <tr style=\"text-align: right;\">\n",
       "      <th></th>\n",
       "      <th>Account Length</th>\n",
       "      <th>VMail Message</th>\n",
       "      <th>Day Mins</th>\n",
       "      <th>Eve Mins</th>\n",
       "      <th>Night Mins</th>\n",
       "      <th>Intl Mins</th>\n",
       "      <th>CustServ Calls</th>\n",
       "      <th>Intl Plan</th>\n",
       "      <th>VMail Plan</th>\n",
       "      <th>Day Calls</th>\n",
       "      <th>...</th>\n",
       "      <th>Eve Calls</th>\n",
       "      <th>Eve Charge</th>\n",
       "      <th>Night Calls</th>\n",
       "      <th>Night Charge</th>\n",
       "      <th>Intl Calls</th>\n",
       "      <th>Intl Charge</th>\n",
       "      <th>State</th>\n",
       "      <th>Area Code</th>\n",
       "      <th>Phone</th>\n",
       "      <th>Churn</th>\n",
       "    </tr>\n",
       "  </thead>\n",
       "  <tbody>\n",
       "    <tr>\n",
       "      <th>0</th>\n",
       "      <td>128</td>\n",
       "      <td>25</td>\n",
       "      <td>265.1</td>\n",
       "      <td>197.4</td>\n",
       "      <td>244.7</td>\n",
       "      <td>10.0</td>\n",
       "      <td>1</td>\n",
       "      <td>0</td>\n",
       "      <td>1</td>\n",
       "      <td>110</td>\n",
       "      <td>...</td>\n",
       "      <td>99</td>\n",
       "      <td>16.78</td>\n",
       "      <td>91</td>\n",
       "      <td>11.01</td>\n",
       "      <td>3</td>\n",
       "      <td>2.70</td>\n",
       "      <td>KS</td>\n",
       "      <td>415</td>\n",
       "      <td>382-4657</td>\n",
       "      <td>0</td>\n",
       "    </tr>\n",
       "    <tr>\n",
       "      <th>1</th>\n",
       "      <td>107</td>\n",
       "      <td>26</td>\n",
       "      <td>161.6</td>\n",
       "      <td>195.5</td>\n",
       "      <td>254.4</td>\n",
       "      <td>13.7</td>\n",
       "      <td>1</td>\n",
       "      <td>0</td>\n",
       "      <td>1</td>\n",
       "      <td>123</td>\n",
       "      <td>...</td>\n",
       "      <td>103</td>\n",
       "      <td>16.62</td>\n",
       "      <td>103</td>\n",
       "      <td>11.45</td>\n",
       "      <td>3</td>\n",
       "      <td>3.70</td>\n",
       "      <td>OH</td>\n",
       "      <td>415</td>\n",
       "      <td>371-7191</td>\n",
       "      <td>0</td>\n",
       "    </tr>\n",
       "    <tr>\n",
       "      <th>2</th>\n",
       "      <td>137</td>\n",
       "      <td>0</td>\n",
       "      <td>243.4</td>\n",
       "      <td>121.2</td>\n",
       "      <td>162.6</td>\n",
       "      <td>12.2</td>\n",
       "      <td>0</td>\n",
       "      <td>0</td>\n",
       "      <td>0</td>\n",
       "      <td>114</td>\n",
       "      <td>...</td>\n",
       "      <td>110</td>\n",
       "      <td>10.30</td>\n",
       "      <td>104</td>\n",
       "      <td>7.32</td>\n",
       "      <td>5</td>\n",
       "      <td>3.29</td>\n",
       "      <td>NJ</td>\n",
       "      <td>415</td>\n",
       "      <td>358-1921</td>\n",
       "      <td>0</td>\n",
       "    </tr>\n",
       "    <tr>\n",
       "      <th>3</th>\n",
       "      <td>84</td>\n",
       "      <td>0</td>\n",
       "      <td>299.4</td>\n",
       "      <td>61.9</td>\n",
       "      <td>196.9</td>\n",
       "      <td>6.6</td>\n",
       "      <td>2</td>\n",
       "      <td>1</td>\n",
       "      <td>0</td>\n",
       "      <td>71</td>\n",
       "      <td>...</td>\n",
       "      <td>88</td>\n",
       "      <td>5.26</td>\n",
       "      <td>89</td>\n",
       "      <td>8.86</td>\n",
       "      <td>7</td>\n",
       "      <td>1.78</td>\n",
       "      <td>OH</td>\n",
       "      <td>408</td>\n",
       "      <td>375-9999</td>\n",
       "      <td>0</td>\n",
       "    </tr>\n",
       "    <tr>\n",
       "      <th>4</th>\n",
       "      <td>75</td>\n",
       "      <td>0</td>\n",
       "      <td>166.7</td>\n",
       "      <td>148.3</td>\n",
       "      <td>186.9</td>\n",
       "      <td>10.1</td>\n",
       "      <td>3</td>\n",
       "      <td>1</td>\n",
       "      <td>0</td>\n",
       "      <td>113</td>\n",
       "      <td>...</td>\n",
       "      <td>122</td>\n",
       "      <td>12.61</td>\n",
       "      <td>121</td>\n",
       "      <td>8.41</td>\n",
       "      <td>3</td>\n",
       "      <td>2.73</td>\n",
       "      <td>OK</td>\n",
       "      <td>415</td>\n",
       "      <td>330-6626</td>\n",
       "      <td>0</td>\n",
       "    </tr>\n",
       "  </tbody>\n",
       "</table>\n",
       "<p>5 rows × 21 columns</p>\n",
       "</div>"
      ],
      "text/plain": [
       "   Account Length  VMail Message  Day Mins  Eve Mins  Night Mins  Intl Mins  \\\n",
       "0             128             25     265.1     197.4       244.7       10.0   \n",
       "1             107             26     161.6     195.5       254.4       13.7   \n",
       "2             137              0     243.4     121.2       162.6       12.2   \n",
       "3              84              0     299.4      61.9       196.9        6.6   \n",
       "4              75              0     166.7     148.3       186.9       10.1   \n",
       "\n",
       "   CustServ Calls  Intl Plan  VMail Plan  Day Calls  ...  Eve Calls  \\\n",
       "0               1          0           1        110  ...         99   \n",
       "1               1          0           1        123  ...        103   \n",
       "2               0          0           0        114  ...        110   \n",
       "3               2          1           0         71  ...         88   \n",
       "4               3          1           0        113  ...        122   \n",
       "\n",
       "   Eve Charge  Night Calls  Night Charge  Intl Calls  Intl Charge  State  \\\n",
       "0       16.78           91         11.01           3         2.70     KS   \n",
       "1       16.62          103         11.45           3         3.70     OH   \n",
       "2       10.30          104          7.32           5         3.29     NJ   \n",
       "3        5.26           89          8.86           7         1.78     OH   \n",
       "4       12.61          121          8.41           3         2.73     OK   \n",
       "\n",
       "  Area Code     Phone Churn  \n",
       "0       415  382-4657     0  \n",
       "1       415  371-7191     0  \n",
       "2       415  358-1921     0  \n",
       "3       408  375-9999     0  \n",
       "4       415  330-6626     0  \n",
       "\n",
       "[5 rows x 21 columns]"
      ]
     },
     "execution_count": 272,
     "metadata": {},
     "output_type": "execute_result"
    }
   ],
   "source": [
    "df.head()"
   ]
  },
  {
   "cell_type": "code",
   "execution_count": 273,
   "id": "ee067367",
   "metadata": {},
   "outputs": [
    {
     "data": {
      "text/plain": [
       "(5700, 21)"
      ]
     },
     "execution_count": 273,
     "metadata": {},
     "output_type": "execute_result"
    }
   ],
   "source": [
    "df.shape"
   ]
  },
  {
   "cell_type": "code",
   "execution_count": 274,
   "id": "a601185f",
   "metadata": {},
   "outputs": [
    {
     "name": "stdout",
     "output_type": "stream",
     "text": [
      "<class 'pandas.core.frame.DataFrame'>\n",
      "RangeIndex: 5700 entries, 0 to 5699\n",
      "Data columns (total 21 columns):\n",
      " #   Column          Non-Null Count  Dtype  \n",
      "---  ------          --------------  -----  \n",
      " 0   Account Length  5700 non-null   int64  \n",
      " 1   VMail Message   5700 non-null   int64  \n",
      " 2   Day Mins        5700 non-null   float64\n",
      " 3   Eve Mins        5700 non-null   float64\n",
      " 4   Night Mins      5700 non-null   float64\n",
      " 5   Intl Mins       5700 non-null   float64\n",
      " 6   CustServ Calls  5700 non-null   int64  \n",
      " 7   Intl Plan       5700 non-null   int64  \n",
      " 8   VMail Plan      5700 non-null   int64  \n",
      " 9   Day Calls       5700 non-null   int64  \n",
      " 10  Day Charge      5700 non-null   float64\n",
      " 11  Eve Calls       5700 non-null   int64  \n",
      " 12  Eve Charge      5700 non-null   float64\n",
      " 13  Night Calls     5700 non-null   int64  \n",
      " 14  Night Charge    5700 non-null   float64\n",
      " 15  Intl Calls      5700 non-null   int64  \n",
      " 16  Intl Charge     5700 non-null   float64\n",
      " 17  State           5700 non-null   object \n",
      " 18  Area Code       5700 non-null   int64  \n",
      " 19  Phone           5700 non-null   object \n",
      " 20  Churn           5700 non-null   int64  \n",
      "dtypes: float64(8), int64(11), object(2)\n",
      "memory usage: 935.3+ KB\n"
     ]
    }
   ],
   "source": [
    "df.info()"
   ]
  },
  {
   "cell_type": "markdown",
   "id": "cbf37dc3",
   "metadata": {},
   "source": [
    "##### Obs: No missing data"
   ]
  },
  {
   "cell_type": "markdown",
   "id": "d7a56c34",
   "metadata": {},
   "source": [
    "#### Let's explore and understand the data"
   ]
  },
  {
   "cell_type": "code",
   "execution_count": 275,
   "id": "6b516a1c",
   "metadata": {},
   "outputs": [
    {
     "data": {
      "text/html": [
       "<div>\n",
       "<style scoped>\n",
       "    .dataframe tbody tr th:only-of-type {\n",
       "        vertical-align: middle;\n",
       "    }\n",
       "\n",
       "    .dataframe tbody tr th {\n",
       "        vertical-align: top;\n",
       "    }\n",
       "\n",
       "    .dataframe thead th {\n",
       "        text-align: right;\n",
       "    }\n",
       "</style>\n",
       "<table border=\"1\" class=\"dataframe\">\n",
       "  <thead>\n",
       "    <tr style=\"text-align: right;\">\n",
       "      <th></th>\n",
       "      <th>Account Length</th>\n",
       "      <th>VMail Message</th>\n",
       "      <th>Day Mins</th>\n",
       "      <th>Eve Mins</th>\n",
       "      <th>Night Mins</th>\n",
       "      <th>Intl Mins</th>\n",
       "      <th>CustServ Calls</th>\n",
       "      <th>Intl Plan</th>\n",
       "      <th>VMail Plan</th>\n",
       "      <th>Day Calls</th>\n",
       "      <th>...</th>\n",
       "      <th>Eve Calls</th>\n",
       "      <th>Eve Charge</th>\n",
       "      <th>Night Calls</th>\n",
       "      <th>Night Charge</th>\n",
       "      <th>Intl Calls</th>\n",
       "      <th>Intl Charge</th>\n",
       "      <th>State</th>\n",
       "      <th>Area Code</th>\n",
       "      <th>Phone</th>\n",
       "      <th>Churn</th>\n",
       "    </tr>\n",
       "  </thead>\n",
       "  <tbody>\n",
       "    <tr>\n",
       "      <th>0</th>\n",
       "      <td>128</td>\n",
       "      <td>25</td>\n",
       "      <td>265.1</td>\n",
       "      <td>197.4</td>\n",
       "      <td>244.7</td>\n",
       "      <td>10.0</td>\n",
       "      <td>1</td>\n",
       "      <td>0</td>\n",
       "      <td>1</td>\n",
       "      <td>110</td>\n",
       "      <td>...</td>\n",
       "      <td>99</td>\n",
       "      <td>16.78</td>\n",
       "      <td>91</td>\n",
       "      <td>11.01</td>\n",
       "      <td>3</td>\n",
       "      <td>2.70</td>\n",
       "      <td>KS</td>\n",
       "      <td>415</td>\n",
       "      <td>382-4657</td>\n",
       "      <td>0</td>\n",
       "    </tr>\n",
       "    <tr>\n",
       "      <th>1</th>\n",
       "      <td>107</td>\n",
       "      <td>26</td>\n",
       "      <td>161.6</td>\n",
       "      <td>195.5</td>\n",
       "      <td>254.4</td>\n",
       "      <td>13.7</td>\n",
       "      <td>1</td>\n",
       "      <td>0</td>\n",
       "      <td>1</td>\n",
       "      <td>123</td>\n",
       "      <td>...</td>\n",
       "      <td>103</td>\n",
       "      <td>16.62</td>\n",
       "      <td>103</td>\n",
       "      <td>11.45</td>\n",
       "      <td>3</td>\n",
       "      <td>3.70</td>\n",
       "      <td>OH</td>\n",
       "      <td>415</td>\n",
       "      <td>371-7191</td>\n",
       "      <td>0</td>\n",
       "    </tr>\n",
       "    <tr>\n",
       "      <th>2</th>\n",
       "      <td>137</td>\n",
       "      <td>0</td>\n",
       "      <td>243.4</td>\n",
       "      <td>121.2</td>\n",
       "      <td>162.6</td>\n",
       "      <td>12.2</td>\n",
       "      <td>0</td>\n",
       "      <td>0</td>\n",
       "      <td>0</td>\n",
       "      <td>114</td>\n",
       "      <td>...</td>\n",
       "      <td>110</td>\n",
       "      <td>10.30</td>\n",
       "      <td>104</td>\n",
       "      <td>7.32</td>\n",
       "      <td>5</td>\n",
       "      <td>3.29</td>\n",
       "      <td>NJ</td>\n",
       "      <td>415</td>\n",
       "      <td>358-1921</td>\n",
       "      <td>0</td>\n",
       "    </tr>\n",
       "    <tr>\n",
       "      <th>3</th>\n",
       "      <td>84</td>\n",
       "      <td>0</td>\n",
       "      <td>299.4</td>\n",
       "      <td>61.9</td>\n",
       "      <td>196.9</td>\n",
       "      <td>6.6</td>\n",
       "      <td>2</td>\n",
       "      <td>1</td>\n",
       "      <td>0</td>\n",
       "      <td>71</td>\n",
       "      <td>...</td>\n",
       "      <td>88</td>\n",
       "      <td>5.26</td>\n",
       "      <td>89</td>\n",
       "      <td>8.86</td>\n",
       "      <td>7</td>\n",
       "      <td>1.78</td>\n",
       "      <td>OH</td>\n",
       "      <td>408</td>\n",
       "      <td>375-9999</td>\n",
       "      <td>0</td>\n",
       "    </tr>\n",
       "    <tr>\n",
       "      <th>4</th>\n",
       "      <td>75</td>\n",
       "      <td>0</td>\n",
       "      <td>166.7</td>\n",
       "      <td>148.3</td>\n",
       "      <td>186.9</td>\n",
       "      <td>10.1</td>\n",
       "      <td>3</td>\n",
       "      <td>1</td>\n",
       "      <td>0</td>\n",
       "      <td>113</td>\n",
       "      <td>...</td>\n",
       "      <td>122</td>\n",
       "      <td>12.61</td>\n",
       "      <td>121</td>\n",
       "      <td>8.41</td>\n",
       "      <td>3</td>\n",
       "      <td>2.73</td>\n",
       "      <td>OK</td>\n",
       "      <td>415</td>\n",
       "      <td>330-6626</td>\n",
       "      <td>0</td>\n",
       "    </tr>\n",
       "    <tr>\n",
       "      <th>...</th>\n",
       "      <td>...</td>\n",
       "      <td>...</td>\n",
       "      <td>...</td>\n",
       "      <td>...</td>\n",
       "      <td>...</td>\n",
       "      <td>...</td>\n",
       "      <td>...</td>\n",
       "      <td>...</td>\n",
       "      <td>...</td>\n",
       "      <td>...</td>\n",
       "      <td>...</td>\n",
       "      <td>...</td>\n",
       "      <td>...</td>\n",
       "      <td>...</td>\n",
       "      <td>...</td>\n",
       "      <td>...</td>\n",
       "      <td>...</td>\n",
       "      <td>...</td>\n",
       "      <td>...</td>\n",
       "      <td>...</td>\n",
       "      <td>...</td>\n",
       "    </tr>\n",
       "    <tr>\n",
       "      <th>5695</th>\n",
       "      <td>224</td>\n",
       "      <td>0</td>\n",
       "      <td>171.5</td>\n",
       "      <td>160.0</td>\n",
       "      <td>212.4</td>\n",
       "      <td>5.0</td>\n",
       "      <td>1</td>\n",
       "      <td>1</td>\n",
       "      <td>0</td>\n",
       "      <td>99</td>\n",
       "      <td>...</td>\n",
       "      <td>103</td>\n",
       "      <td>13.60</td>\n",
       "      <td>102</td>\n",
       "      <td>9.56</td>\n",
       "      <td>2</td>\n",
       "      <td>1.35</td>\n",
       "      <td>DE</td>\n",
       "      <td>510</td>\n",
       "      <td>361-6563</td>\n",
       "      <td>1</td>\n",
       "    </tr>\n",
       "    <tr>\n",
       "      <th>5696</th>\n",
       "      <td>131</td>\n",
       "      <td>0</td>\n",
       "      <td>131.6</td>\n",
       "      <td>179.3</td>\n",
       "      <td>251.2</td>\n",
       "      <td>15.5</td>\n",
       "      <td>1</td>\n",
       "      <td>0</td>\n",
       "      <td>0</td>\n",
       "      <td>95</td>\n",
       "      <td>...</td>\n",
       "      <td>109</td>\n",
       "      <td>15.24</td>\n",
       "      <td>129</td>\n",
       "      <td>11.30</td>\n",
       "      <td>3</td>\n",
       "      <td>4.19</td>\n",
       "      <td>MS</td>\n",
       "      <td>415</td>\n",
       "      <td>333-9002</td>\n",
       "      <td>1</td>\n",
       "    </tr>\n",
       "    <tr>\n",
       "      <th>5697</th>\n",
       "      <td>132</td>\n",
       "      <td>0</td>\n",
       "      <td>291.2</td>\n",
       "      <td>234.2</td>\n",
       "      <td>191.7</td>\n",
       "      <td>8.9</td>\n",
       "      <td>1</td>\n",
       "      <td>0</td>\n",
       "      <td>0</td>\n",
       "      <td>104</td>\n",
       "      <td>...</td>\n",
       "      <td>132</td>\n",
       "      <td>19.91</td>\n",
       "      <td>87</td>\n",
       "      <td>8.63</td>\n",
       "      <td>3</td>\n",
       "      <td>2.40</td>\n",
       "      <td>MI</td>\n",
       "      <td>408</td>\n",
       "      <td>389-4608</td>\n",
       "      <td>1</td>\n",
       "    </tr>\n",
       "    <tr>\n",
       "      <th>5698</th>\n",
       "      <td>100</td>\n",
       "      <td>0</td>\n",
       "      <td>113.3</td>\n",
       "      <td>197.9</td>\n",
       "      <td>284.5</td>\n",
       "      <td>11.7</td>\n",
       "      <td>4</td>\n",
       "      <td>0</td>\n",
       "      <td>0</td>\n",
       "      <td>96</td>\n",
       "      <td>...</td>\n",
       "      <td>89</td>\n",
       "      <td>16.82</td>\n",
       "      <td>93</td>\n",
       "      <td>12.80</td>\n",
       "      <td>2</td>\n",
       "      <td>3.16</td>\n",
       "      <td>MT</td>\n",
       "      <td>415</td>\n",
       "      <td>341-4873</td>\n",
       "      <td>1</td>\n",
       "    </tr>\n",
       "    <tr>\n",
       "      <th>5699</th>\n",
       "      <td>147</td>\n",
       "      <td>0</td>\n",
       "      <td>274.0</td>\n",
       "      <td>231.8</td>\n",
       "      <td>283.6</td>\n",
       "      <td>6.2</td>\n",
       "      <td>0</td>\n",
       "      <td>0</td>\n",
       "      <td>0</td>\n",
       "      <td>92</td>\n",
       "      <td>...</td>\n",
       "      <td>82</td>\n",
       "      <td>19.70</td>\n",
       "      <td>83</td>\n",
       "      <td>12.76</td>\n",
       "      <td>1</td>\n",
       "      <td>1.67</td>\n",
       "      <td>MD</td>\n",
       "      <td>408</td>\n",
       "      <td>376-4292</td>\n",
       "      <td>1</td>\n",
       "    </tr>\n",
       "  </tbody>\n",
       "</table>\n",
       "<p>5700 rows × 21 columns</p>\n",
       "</div>"
      ],
      "text/plain": [
       "      Account Length  VMail Message  Day Mins  Eve Mins  Night Mins  \\\n",
       "0                128             25     265.1     197.4       244.7   \n",
       "1                107             26     161.6     195.5       254.4   \n",
       "2                137              0     243.4     121.2       162.6   \n",
       "3                 84              0     299.4      61.9       196.9   \n",
       "4                 75              0     166.7     148.3       186.9   \n",
       "...              ...            ...       ...       ...         ...   \n",
       "5695             224              0     171.5     160.0       212.4   \n",
       "5696             131              0     131.6     179.3       251.2   \n",
       "5697             132              0     291.2     234.2       191.7   \n",
       "5698             100              0     113.3     197.9       284.5   \n",
       "5699             147              0     274.0     231.8       283.6   \n",
       "\n",
       "      Intl Mins  CustServ Calls  Intl Plan  VMail Plan  Day Calls  ...  \\\n",
       "0          10.0               1          0           1        110  ...   \n",
       "1          13.7               1          0           1        123  ...   \n",
       "2          12.2               0          0           0        114  ...   \n",
       "3           6.6               2          1           0         71  ...   \n",
       "4          10.1               3          1           0        113  ...   \n",
       "...         ...             ...        ...         ...        ...  ...   \n",
       "5695        5.0               1          1           0         99  ...   \n",
       "5696       15.5               1          0           0         95  ...   \n",
       "5697        8.9               1          0           0        104  ...   \n",
       "5698       11.7               4          0           0         96  ...   \n",
       "5699        6.2               0          0           0         92  ...   \n",
       "\n",
       "      Eve Calls  Eve Charge  Night Calls  Night Charge  Intl Calls  \\\n",
       "0            99       16.78           91         11.01           3   \n",
       "1           103       16.62          103         11.45           3   \n",
       "2           110       10.30          104          7.32           5   \n",
       "3            88        5.26           89          8.86           7   \n",
       "4           122       12.61          121          8.41           3   \n",
       "...         ...         ...          ...           ...         ...   \n",
       "5695        103       13.60          102          9.56           2   \n",
       "5696        109       15.24          129         11.30           3   \n",
       "5697        132       19.91           87          8.63           3   \n",
       "5698         89       16.82           93         12.80           2   \n",
       "5699         82       19.70           83         12.76           1   \n",
       "\n",
       "      Intl Charge  State Area Code     Phone Churn  \n",
       "0            2.70     KS       415  382-4657     0  \n",
       "1            3.70     OH       415  371-7191     0  \n",
       "2            3.29     NJ       415  358-1921     0  \n",
       "3            1.78     OH       408  375-9999     0  \n",
       "4            2.73     OK       415  330-6626     0  \n",
       "...           ...    ...       ...       ...   ...  \n",
       "5695         1.35     DE       510  361-6563     1  \n",
       "5696         4.19     MS       415  333-9002     1  \n",
       "5697         2.40     MI       408  389-4608     1  \n",
       "5698         3.16     MT       415  341-4873     1  \n",
       "5699         1.67     MD       408  376-4292     1  \n",
       "\n",
       "[5700 rows x 21 columns]"
      ]
     },
     "execution_count": 275,
     "metadata": {},
     "output_type": "execute_result"
    }
   ],
   "source": [
    "df"
   ]
  },
  {
   "cell_type": "code",
   "execution_count": 276,
   "id": "3150bacf",
   "metadata": {},
   "outputs": [
    {
     "data": {
      "text/plain": [
       "<AxesSubplot:ylabel='Density'>"
      ]
     },
     "execution_count": 276,
     "metadata": {},
     "output_type": "execute_result"
    },
    {
     "data": {
      "image/png": "[encoded data removed]",
      "text/plain": [
       "<Figure size 432x288 with 1 Axes>"
      ]
     },
     "metadata": {
      "needs_background": "light"
     },
     "output_type": "display_data"
    }
   ],
   "source": [
    "df['VMail Message'].plot(kind='kde')"
   ]
  },
  {
   "cell_type": "markdown",
   "id": "400daff7",
   "metadata": {},
   "source": [
    "we have a lot of users send only zero voice message!"
   ]
  },
  {
   "cell_type": "code",
   "execution_count": 277,
   "id": "910db216",
   "metadata": {},
   "outputs": [
    {
     "data": {
      "text/html": [
       "<div>\n",
       "<style scoped>\n",
       "    .dataframe tbody tr th:only-of-type {\n",
       "        vertical-align: middle;\n",
       "    }\n",
       "\n",
       "    .dataframe tbody tr th {\n",
       "        vertical-align: top;\n",
       "    }\n",
       "\n",
       "    .dataframe thead th {\n",
       "        text-align: right;\n",
       "    }\n",
       "</style>\n",
       "<table border=\"1\" class=\"dataframe\">\n",
       "  <thead>\n",
       "    <tr style=\"text-align: right;\">\n",
       "      <th></th>\n",
       "      <th>Account Length</th>\n",
       "      <th>VMail Message</th>\n",
       "      <th>Day Mins</th>\n",
       "      <th>Eve Mins</th>\n",
       "      <th>Night Mins</th>\n",
       "      <th>Intl Mins</th>\n",
       "      <th>CustServ Calls</th>\n",
       "      <th>Intl Plan</th>\n",
       "      <th>VMail Plan</th>\n",
       "      <th>Day Calls</th>\n",
       "      <th>...</th>\n",
       "      <th>Eve Calls</th>\n",
       "      <th>Eve Charge</th>\n",
       "      <th>Night Calls</th>\n",
       "      <th>Night Charge</th>\n",
       "      <th>Intl Calls</th>\n",
       "      <th>Intl Charge</th>\n",
       "      <th>State</th>\n",
       "      <th>Area Code</th>\n",
       "      <th>Phone</th>\n",
       "      <th>Churn</th>\n",
       "    </tr>\n",
       "  </thead>\n",
       "  <tbody>\n",
       "    <tr>\n",
       "      <th>0</th>\n",
       "      <td>128</td>\n",
       "      <td>25</td>\n",
       "      <td>265.1</td>\n",
       "      <td>197.4</td>\n",
       "      <td>244.7</td>\n",
       "      <td>10.0</td>\n",
       "      <td>1</td>\n",
       "      <td>0</td>\n",
       "      <td>1</td>\n",
       "      <td>110</td>\n",
       "      <td>...</td>\n",
       "      <td>99</td>\n",
       "      <td>16.78</td>\n",
       "      <td>91</td>\n",
       "      <td>11.01</td>\n",
       "      <td>3</td>\n",
       "      <td>2.70</td>\n",
       "      <td>KS</td>\n",
       "      <td>415</td>\n",
       "      <td>382-4657</td>\n",
       "      <td>0</td>\n",
       "    </tr>\n",
       "    <tr>\n",
       "      <th>1</th>\n",
       "      <td>107</td>\n",
       "      <td>26</td>\n",
       "      <td>161.6</td>\n",
       "      <td>195.5</td>\n",
       "      <td>254.4</td>\n",
       "      <td>13.7</td>\n",
       "      <td>1</td>\n",
       "      <td>0</td>\n",
       "      <td>1</td>\n",
       "      <td>123</td>\n",
       "      <td>...</td>\n",
       "      <td>103</td>\n",
       "      <td>16.62</td>\n",
       "      <td>103</td>\n",
       "      <td>11.45</td>\n",
       "      <td>3</td>\n",
       "      <td>3.70</td>\n",
       "      <td>OH</td>\n",
       "      <td>415</td>\n",
       "      <td>371-7191</td>\n",
       "      <td>0</td>\n",
       "    </tr>\n",
       "    <tr>\n",
       "      <th>2</th>\n",
       "      <td>137</td>\n",
       "      <td>0</td>\n",
       "      <td>243.4</td>\n",
       "      <td>121.2</td>\n",
       "      <td>162.6</td>\n",
       "      <td>12.2</td>\n",
       "      <td>0</td>\n",
       "      <td>0</td>\n",
       "      <td>0</td>\n",
       "      <td>114</td>\n",
       "      <td>...</td>\n",
       "      <td>110</td>\n",
       "      <td>10.30</td>\n",
       "      <td>104</td>\n",
       "      <td>7.32</td>\n",
       "      <td>5</td>\n",
       "      <td>3.29</td>\n",
       "      <td>NJ</td>\n",
       "      <td>415</td>\n",
       "      <td>358-1921</td>\n",
       "      <td>0</td>\n",
       "    </tr>\n",
       "    <tr>\n",
       "      <th>3</th>\n",
       "      <td>84</td>\n",
       "      <td>0</td>\n",
       "      <td>299.4</td>\n",
       "      <td>61.9</td>\n",
       "      <td>196.9</td>\n",
       "      <td>6.6</td>\n",
       "      <td>2</td>\n",
       "      <td>1</td>\n",
       "      <td>0</td>\n",
       "      <td>71</td>\n",
       "      <td>...</td>\n",
       "      <td>88</td>\n",
       "      <td>5.26</td>\n",
       "      <td>89</td>\n",
       "      <td>8.86</td>\n",
       "      <td>7</td>\n",
       "      <td>1.78</td>\n",
       "      <td>OH</td>\n",
       "      <td>408</td>\n",
       "      <td>375-9999</td>\n",
       "      <td>0</td>\n",
       "    </tr>\n",
       "    <tr>\n",
       "      <th>4</th>\n",
       "      <td>75</td>\n",
       "      <td>0</td>\n",
       "      <td>166.7</td>\n",
       "      <td>148.3</td>\n",
       "      <td>186.9</td>\n",
       "      <td>10.1</td>\n",
       "      <td>3</td>\n",
       "      <td>1</td>\n",
       "      <td>0</td>\n",
       "      <td>113</td>\n",
       "      <td>...</td>\n",
       "      <td>122</td>\n",
       "      <td>12.61</td>\n",
       "      <td>121</td>\n",
       "      <td>8.41</td>\n",
       "      <td>3</td>\n",
       "      <td>2.73</td>\n",
       "      <td>OK</td>\n",
       "      <td>415</td>\n",
       "      <td>330-6626</td>\n",
       "      <td>0</td>\n",
       "    </tr>\n",
       "    <tr>\n",
       "      <th>...</th>\n",
       "      <td>...</td>\n",
       "      <td>...</td>\n",
       "      <td>...</td>\n",
       "      <td>...</td>\n",
       "      <td>...</td>\n",
       "      <td>...</td>\n",
       "      <td>...</td>\n",
       "      <td>...</td>\n",
       "      <td>...</td>\n",
       "      <td>...</td>\n",
       "      <td>...</td>\n",
       "      <td>...</td>\n",
       "      <td>...</td>\n",
       "      <td>...</td>\n",
       "      <td>...</td>\n",
       "      <td>...</td>\n",
       "      <td>...</td>\n",
       "      <td>...</td>\n",
       "      <td>...</td>\n",
       "      <td>...</td>\n",
       "      <td>...</td>\n",
       "    </tr>\n",
       "    <tr>\n",
       "      <th>5695</th>\n",
       "      <td>224</td>\n",
       "      <td>0</td>\n",
       "      <td>171.5</td>\n",
       "      <td>160.0</td>\n",
       "      <td>212.4</td>\n",
       "      <td>5.0</td>\n",
       "      <td>1</td>\n",
       "      <td>1</td>\n",
       "      <td>0</td>\n",
       "      <td>99</td>\n",
       "      <td>...</td>\n",
       "      <td>103</td>\n",
       "      <td>13.60</td>\n",
       "      <td>102</td>\n",
       "      <td>9.56</td>\n",
       "      <td>2</td>\n",
       "      <td>1.35</td>\n",
       "      <td>DE</td>\n",
       "      <td>510</td>\n",
       "      <td>361-6563</td>\n",
       "      <td>1</td>\n",
       "    </tr>\n",
       "    <tr>\n",
       "      <th>5696</th>\n",
       "      <td>131</td>\n",
       "      <td>0</td>\n",
       "      <td>131.6</td>\n",
       "      <td>179.3</td>\n",
       "      <td>251.2</td>\n",
       "      <td>15.5</td>\n",
       "      <td>1</td>\n",
       "      <td>0</td>\n",
       "      <td>0</td>\n",
       "      <td>95</td>\n",
       "      <td>...</td>\n",
       "      <td>109</td>\n",
       "      <td>15.24</td>\n",
       "      <td>129</td>\n",
       "      <td>11.30</td>\n",
       "      <td>3</td>\n",
       "      <td>4.19</td>\n",
       "      <td>MS</td>\n",
       "      <td>415</td>\n",
       "      <td>333-9002</td>\n",
       "      <td>1</td>\n",
       "    </tr>\n",
       "    <tr>\n",
       "      <th>5697</th>\n",
       "      <td>132</td>\n",
       "      <td>0</td>\n",
       "      <td>291.2</td>\n",
       "      <td>234.2</td>\n",
       "      <td>191.7</td>\n",
       "      <td>8.9</td>\n",
       "      <td>1</td>\n",
       "      <td>0</td>\n",
       "      <td>0</td>\n",
       "      <td>104</td>\n",
       "      <td>...</td>\n",
       "      <td>132</td>\n",
       "      <td>19.91</td>\n",
       "      <td>87</td>\n",
       "      <td>8.63</td>\n",
       "      <td>3</td>\n",
       "      <td>2.40</td>\n",
       "      <td>MI</td>\n",
       "      <td>408</td>\n",
       "      <td>389-4608</td>\n",
       "      <td>1</td>\n",
       "    </tr>\n",
       "    <tr>\n",
       "      <th>5698</th>\n",
       "      <td>100</td>\n",
       "      <td>0</td>\n",
       "      <td>113.3</td>\n",
       "      <td>197.9</td>\n",
       "      <td>284.5</td>\n",
       "      <td>11.7</td>\n",
       "      <td>4</td>\n",
       "      <td>0</td>\n",
       "      <td>0</td>\n",
       "      <td>96</td>\n",
       "      <td>...</td>\n",
       "      <td>89</td>\n",
       "      <td>16.82</td>\n",
       "      <td>93</td>\n",
       "      <td>12.80</td>\n",
       "      <td>2</td>\n",
       "      <td>3.16</td>\n",
       "      <td>MT</td>\n",
       "      <td>415</td>\n",
       "      <td>341-4873</td>\n",
       "      <td>1</td>\n",
       "    </tr>\n",
       "    <tr>\n",
       "      <th>5699</th>\n",
       "      <td>147</td>\n",
       "      <td>0</td>\n",
       "      <td>274.0</td>\n",
       "      <td>231.8</td>\n",
       "      <td>283.6</td>\n",
       "      <td>6.2</td>\n",
       "      <td>0</td>\n",
       "      <td>0</td>\n",
       "      <td>0</td>\n",
       "      <td>92</td>\n",
       "      <td>...</td>\n",
       "      <td>82</td>\n",
       "      <td>19.70</td>\n",
       "      <td>83</td>\n",
       "      <td>12.76</td>\n",
       "      <td>1</td>\n",
       "      <td>1.67</td>\n",
       "      <td>MD</td>\n",
       "      <td>408</td>\n",
       "      <td>376-4292</td>\n",
       "      <td>1</td>\n",
       "    </tr>\n",
       "  </tbody>\n",
       "</table>\n",
       "<p>5700 rows × 21 columns</p>\n",
       "</div>"
      ],
      "text/plain": [
       "      Account Length  VMail Message  Day Mins  Eve Mins  Night Mins  \\\n",
       "0                128             25     265.1     197.4       244.7   \n",
       "1                107             26     161.6     195.5       254.4   \n",
       "2                137              0     243.4     121.2       162.6   \n",
       "3                 84              0     299.4      61.9       196.9   \n",
       "4                 75              0     166.7     148.3       186.9   \n",
       "...              ...            ...       ...       ...         ...   \n",
       "5695             224              0     171.5     160.0       212.4   \n",
       "5696             131              0     131.6     179.3       251.2   \n",
       "5697             132              0     291.2     234.2       191.7   \n",
       "5698             100              0     113.3     197.9       284.5   \n",
       "5699             147              0     274.0     231.8       283.6   \n",
       "\n",
       "      Intl Mins  CustServ Calls  Intl Plan  VMail Plan  Day Calls  ...  \\\n",
       "0          10.0               1          0           1        110  ...   \n",
       "1          13.7               1          0           1        123  ...   \n",
       "2          12.2               0          0           0        114  ...   \n",
       "3           6.6               2          1           0         71  ...   \n",
       "4          10.1               3          1           0        113  ...   \n",
       "...         ...             ...        ...         ...        ...  ...   \n",
       "5695        5.0               1          1           0         99  ...   \n",
       "5696       15.5               1          0           0         95  ...   \n",
       "5697        8.9               1          0           0        104  ...   \n",
       "5698       11.7               4          0           0         96  ...   \n",
       "5699        6.2               0          0           0         92  ...   \n",
       "\n",
       "      Eve Calls  Eve Charge  Night Calls  Night Charge  Intl Calls  \\\n",
       "0            99       16.78           91         11.01           3   \n",
       "1           103       16.62          103         11.45           3   \n",
       "2           110       10.30          104          7.32           5   \n",
       "3            88        5.26           89          8.86           7   \n",
       "4           122       12.61          121          8.41           3   \n",
       "...         ...         ...          ...           ...         ...   \n",
       "5695        103       13.60          102          9.56           2   \n",
       "5696        109       15.24          129         11.30           3   \n",
       "5697        132       19.91           87          8.63           3   \n",
       "5698         89       16.82           93         12.80           2   \n",
       "5699         82       19.70           83         12.76           1   \n",
       "\n",
       "      Intl Charge  State Area Code     Phone Churn  \n",
       "0            2.70     KS       415  382-4657     0  \n",
       "1            3.70     OH       415  371-7191     0  \n",
       "2            3.29     NJ       415  358-1921     0  \n",
       "3            1.78     OH       408  375-9999     0  \n",
       "4            2.73     OK       415  330-6626     0  \n",
       "...           ...    ...       ...       ...   ...  \n",
       "5695         1.35     DE       510  361-6563     1  \n",
       "5696         4.19     MS       415  333-9002     1  \n",
       "5697         2.40     MI       408  389-4608     1  \n",
       "5698         3.16     MT       415  341-4873     1  \n",
       "5699         1.67     MD       408  376-4292     1  \n",
       "\n",
       "[5700 rows x 21 columns]"
      ]
     },
     "execution_count": 277,
     "metadata": {},
     "output_type": "execute_result"
    }
   ],
   "source": [
    "df"
   ]
  },
  {
   "cell_type": "code",
   "execution_count": 278,
   "id": "d548877c",
   "metadata": {},
   "outputs": [
    {
     "data": {
      "text/plain": [
       "<AxesSubplot:xlabel='Churn', ylabel='count'>"
      ]
     },
     "execution_count": 278,
     "metadata": {},
     "output_type": "execute_result"
    },
    {
     "data": {
      "image/png": "[encoded data removed]",
      "text/plain": [
       "<Figure size 432x288 with 1 Axes>"
      ]
     },
     "metadata": {
      "needs_background": "light"
     },
     "output_type": "display_data"
    }
   ],
   "source": [
    "sns.countplot(df[df['VMail Message'] == 0].Churn)"
   ]
  },
  {
   "cell_type": "code",
   "execution_count": 279,
   "id": "5284cbc6",
   "metadata": {},
   "outputs": [
    {
     "data": {
      "text/plain": [
       "<AxesSubplot:xlabel='Churn', ylabel='count'>"
      ]
     },
     "execution_count": 279,
     "metadata": {},
     "output_type": "execute_result"
    },
    {
     "data": {
      "image/png": "[encoded data removed]",
      "text/plain": [
       "<Figure size 432x288 with 1 Axes>"
      ]
     },
     "metadata": {
      "needs_background": "light"
     },
     "output_type": "display_data"
    }
   ],
   "source": [
    "sns.countplot(df[df['VMail Message'] != 0].Churn)"
   ]
  },
  {
   "cell_type": "markdown",
   "id": "ddff46a1",
   "metadata": {},
   "source": [
    "not significant impact on churning!"
   ]
  },
  {
   "cell_type": "code",
   "execution_count": 280,
   "id": "47eba04a",
   "metadata": {},
   "outputs": [
    {
     "data": {
      "text/html": [
       "<div>\n",
       "<style scoped>\n",
       "    .dataframe tbody tr th:only-of-type {\n",
       "        vertical-align: middle;\n",
       "    }\n",
       "\n",
       "    .dataframe tbody tr th {\n",
       "        vertical-align: top;\n",
       "    }\n",
       "\n",
       "    .dataframe thead th {\n",
       "        text-align: right;\n",
       "    }\n",
       "</style>\n",
       "<table border=\"1\" class=\"dataframe\">\n",
       "  <thead>\n",
       "    <tr style=\"text-align: right;\">\n",
       "      <th></th>\n",
       "      <th>Account Length</th>\n",
       "      <th>VMail Message</th>\n",
       "      <th>Day Mins</th>\n",
       "      <th>Eve Mins</th>\n",
       "      <th>Night Mins</th>\n",
       "      <th>Intl Mins</th>\n",
       "      <th>CustServ Calls</th>\n",
       "      <th>Intl Plan</th>\n",
       "      <th>VMail Plan</th>\n",
       "      <th>Day Calls</th>\n",
       "      <th>...</th>\n",
       "      <th>Eve Calls</th>\n",
       "      <th>Eve Charge</th>\n",
       "      <th>Night Calls</th>\n",
       "      <th>Night Charge</th>\n",
       "      <th>Intl Calls</th>\n",
       "      <th>Intl Charge</th>\n",
       "      <th>State</th>\n",
       "      <th>Area Code</th>\n",
       "      <th>Phone</th>\n",
       "      <th>Churn</th>\n",
       "    </tr>\n",
       "  </thead>\n",
       "  <tbody>\n",
       "    <tr>\n",
       "      <th>0</th>\n",
       "      <td>128</td>\n",
       "      <td>25</td>\n",
       "      <td>265.1</td>\n",
       "      <td>197.4</td>\n",
       "      <td>244.7</td>\n",
       "      <td>10.0</td>\n",
       "      <td>1</td>\n",
       "      <td>0</td>\n",
       "      <td>1</td>\n",
       "      <td>110</td>\n",
       "      <td>...</td>\n",
       "      <td>99</td>\n",
       "      <td>16.78</td>\n",
       "      <td>91</td>\n",
       "      <td>11.01</td>\n",
       "      <td>3</td>\n",
       "      <td>2.70</td>\n",
       "      <td>KS</td>\n",
       "      <td>415</td>\n",
       "      <td>382-4657</td>\n",
       "      <td>0</td>\n",
       "    </tr>\n",
       "    <tr>\n",
       "      <th>1</th>\n",
       "      <td>107</td>\n",
       "      <td>26</td>\n",
       "      <td>161.6</td>\n",
       "      <td>195.5</td>\n",
       "      <td>254.4</td>\n",
       "      <td>13.7</td>\n",
       "      <td>1</td>\n",
       "      <td>0</td>\n",
       "      <td>1</td>\n",
       "      <td>123</td>\n",
       "      <td>...</td>\n",
       "      <td>103</td>\n",
       "      <td>16.62</td>\n",
       "      <td>103</td>\n",
       "      <td>11.45</td>\n",
       "      <td>3</td>\n",
       "      <td>3.70</td>\n",
       "      <td>OH</td>\n",
       "      <td>415</td>\n",
       "      <td>371-7191</td>\n",
       "      <td>0</td>\n",
       "    </tr>\n",
       "    <tr>\n",
       "      <th>2</th>\n",
       "      <td>137</td>\n",
       "      <td>0</td>\n",
       "      <td>243.4</td>\n",
       "      <td>121.2</td>\n",
       "      <td>162.6</td>\n",
       "      <td>12.2</td>\n",
       "      <td>0</td>\n",
       "      <td>0</td>\n",
       "      <td>0</td>\n",
       "      <td>114</td>\n",
       "      <td>...</td>\n",
       "      <td>110</td>\n",
       "      <td>10.30</td>\n",
       "      <td>104</td>\n",
       "      <td>7.32</td>\n",
       "      <td>5</td>\n",
       "      <td>3.29</td>\n",
       "      <td>NJ</td>\n",
       "      <td>415</td>\n",
       "      <td>358-1921</td>\n",
       "      <td>0</td>\n",
       "    </tr>\n",
       "    <tr>\n",
       "      <th>3</th>\n",
       "      <td>84</td>\n",
       "      <td>0</td>\n",
       "      <td>299.4</td>\n",
       "      <td>61.9</td>\n",
       "      <td>196.9</td>\n",
       "      <td>6.6</td>\n",
       "      <td>2</td>\n",
       "      <td>1</td>\n",
       "      <td>0</td>\n",
       "      <td>71</td>\n",
       "      <td>...</td>\n",
       "      <td>88</td>\n",
       "      <td>5.26</td>\n",
       "      <td>89</td>\n",
       "      <td>8.86</td>\n",
       "      <td>7</td>\n",
       "      <td>1.78</td>\n",
       "      <td>OH</td>\n",
       "      <td>408</td>\n",
       "      <td>375-9999</td>\n",
       "      <td>0</td>\n",
       "    </tr>\n",
       "    <tr>\n",
       "      <th>4</th>\n",
       "      <td>75</td>\n",
       "      <td>0</td>\n",
       "      <td>166.7</td>\n",
       "      <td>148.3</td>\n",
       "      <td>186.9</td>\n",
       "      <td>10.1</td>\n",
       "      <td>3</td>\n",
       "      <td>1</td>\n",
       "      <td>0</td>\n",
       "      <td>113</td>\n",
       "      <td>...</td>\n",
       "      <td>122</td>\n",
       "      <td>12.61</td>\n",
       "      <td>121</td>\n",
       "      <td>8.41</td>\n",
       "      <td>3</td>\n",
       "      <td>2.73</td>\n",
       "      <td>OK</td>\n",
       "      <td>415</td>\n",
       "      <td>330-6626</td>\n",
       "      <td>0</td>\n",
       "    </tr>\n",
       "    <tr>\n",
       "      <th>...</th>\n",
       "      <td>...</td>\n",
       "      <td>...</td>\n",
       "      <td>...</td>\n",
       "      <td>...</td>\n",
       "      <td>...</td>\n",
       "      <td>...</td>\n",
       "      <td>...</td>\n",
       "      <td>...</td>\n",
       "      <td>...</td>\n",
       "      <td>...</td>\n",
       "      <td>...</td>\n",
       "      <td>...</td>\n",
       "      <td>...</td>\n",
       "      <td>...</td>\n",
       "      <td>...</td>\n",
       "      <td>...</td>\n",
       "      <td>...</td>\n",
       "      <td>...</td>\n",
       "      <td>...</td>\n",
       "      <td>...</td>\n",
       "      <td>...</td>\n",
       "    </tr>\n",
       "    <tr>\n",
       "      <th>5695</th>\n",
       "      <td>224</td>\n",
       "      <td>0</td>\n",
       "      <td>171.5</td>\n",
       "      <td>160.0</td>\n",
       "      <td>212.4</td>\n",
       "      <td>5.0</td>\n",
       "      <td>1</td>\n",
       "      <td>1</td>\n",
       "      <td>0</td>\n",
       "      <td>99</td>\n",
       "      <td>...</td>\n",
       "      <td>103</td>\n",
       "      <td>13.60</td>\n",
       "      <td>102</td>\n",
       "      <td>9.56</td>\n",
       "      <td>2</td>\n",
       "      <td>1.35</td>\n",
       "      <td>DE</td>\n",
       "      <td>510</td>\n",
       "      <td>361-6563</td>\n",
       "      <td>1</td>\n",
       "    </tr>\n",
       "    <tr>\n",
       "      <th>5696</th>\n",
       "      <td>131</td>\n",
       "      <td>0</td>\n",
       "      <td>131.6</td>\n",
       "      <td>179.3</td>\n",
       "      <td>251.2</td>\n",
       "      <td>15.5</td>\n",
       "      <td>1</td>\n",
       "      <td>0</td>\n",
       "      <td>0</td>\n",
       "      <td>95</td>\n",
       "      <td>...</td>\n",
       "      <td>109</td>\n",
       "      <td>15.24</td>\n",
       "      <td>129</td>\n",
       "      <td>11.30</td>\n",
       "      <td>3</td>\n",
       "      <td>4.19</td>\n",
       "      <td>MS</td>\n",
       "      <td>415</td>\n",
       "      <td>333-9002</td>\n",
       "      <td>1</td>\n",
       "    </tr>\n",
       "    <tr>\n",
       "      <th>5697</th>\n",
       "      <td>132</td>\n",
       "      <td>0</td>\n",
       "      <td>291.2</td>\n",
       "      <td>234.2</td>\n",
       "      <td>191.7</td>\n",
       "      <td>8.9</td>\n",
       "      <td>1</td>\n",
       "      <td>0</td>\n",
       "      <td>0</td>\n",
       "      <td>104</td>\n",
       "      <td>...</td>\n",
       "      <td>132</td>\n",
       "      <td>19.91</td>\n",
       "      <td>87</td>\n",
       "      <td>8.63</td>\n",
       "      <td>3</td>\n",
       "      <td>2.40</td>\n",
       "      <td>MI</td>\n",
       "      <td>408</td>\n",
       "      <td>389-4608</td>\n",
       "      <td>1</td>\n",
       "    </tr>\n",
       "    <tr>\n",
       "      <th>5698</th>\n",
       "      <td>100</td>\n",
       "      <td>0</td>\n",
       "      <td>113.3</td>\n",
       "      <td>197.9</td>\n",
       "      <td>284.5</td>\n",
       "      <td>11.7</td>\n",
       "      <td>4</td>\n",
       "      <td>0</td>\n",
       "      <td>0</td>\n",
       "      <td>96</td>\n",
       "      <td>...</td>\n",
       "      <td>89</td>\n",
       "      <td>16.82</td>\n",
       "      <td>93</td>\n",
       "      <td>12.80</td>\n",
       "      <td>2</td>\n",
       "      <td>3.16</td>\n",
       "      <td>MT</td>\n",
       "      <td>415</td>\n",
       "      <td>341-4873</td>\n",
       "      <td>1</td>\n",
       "    </tr>\n",
       "    <tr>\n",
       "      <th>5699</th>\n",
       "      <td>147</td>\n",
       "      <td>0</td>\n",
       "      <td>274.0</td>\n",
       "      <td>231.8</td>\n",
       "      <td>283.6</td>\n",
       "      <td>6.2</td>\n",
       "      <td>0</td>\n",
       "      <td>0</td>\n",
       "      <td>0</td>\n",
       "      <td>92</td>\n",
       "      <td>...</td>\n",
       "      <td>82</td>\n",
       "      <td>19.70</td>\n",
       "      <td>83</td>\n",
       "      <td>12.76</td>\n",
       "      <td>1</td>\n",
       "      <td>1.67</td>\n",
       "      <td>MD</td>\n",
       "      <td>408</td>\n",
       "      <td>376-4292</td>\n",
       "      <td>1</td>\n",
       "    </tr>\n",
       "  </tbody>\n",
       "</table>\n",
       "<p>5700 rows × 21 columns</p>\n",
       "</div>"
      ],
      "text/plain": [
       "      Account Length  VMail Message  Day Mins  Eve Mins  Night Mins  \\\n",
       "0                128             25     265.1     197.4       244.7   \n",
       "1                107             26     161.6     195.5       254.4   \n",
       "2                137              0     243.4     121.2       162.6   \n",
       "3                 84              0     299.4      61.9       196.9   \n",
       "4                 75              0     166.7     148.3       186.9   \n",
       "...              ...            ...       ...       ...         ...   \n",
       "5695             224              0     171.5     160.0       212.4   \n",
       "5696             131              0     131.6     179.3       251.2   \n",
       "5697             132              0     291.2     234.2       191.7   \n",
       "5698             100              0     113.3     197.9       284.5   \n",
       "5699             147              0     274.0     231.8       283.6   \n",
       "\n",
       "      Intl Mins  CustServ Calls  Intl Plan  VMail Plan  Day Calls  ...  \\\n",
       "0          10.0               1          0           1        110  ...   \n",
       "1          13.7               1          0           1        123  ...   \n",
       "2          12.2               0          0           0        114  ...   \n",
       "3           6.6               2          1           0         71  ...   \n",
       "4          10.1               3          1           0        113  ...   \n",
       "...         ...             ...        ...         ...        ...  ...   \n",
       "5695        5.0               1          1           0         99  ...   \n",
       "5696       15.5               1          0           0         95  ...   \n",
       "5697        8.9               1          0           0        104  ...   \n",
       "5698       11.7               4          0           0         96  ...   \n",
       "5699        6.2               0          0           0         92  ...   \n",
       "\n",
       "      Eve Calls  Eve Charge  Night Calls  Night Charge  Intl Calls  \\\n",
       "0            99       16.78           91         11.01           3   \n",
       "1           103       16.62          103         11.45           3   \n",
       "2           110       10.30          104          7.32           5   \n",
       "3            88        5.26           89          8.86           7   \n",
       "4           122       12.61          121          8.41           3   \n",
       "...         ...         ...          ...           ...         ...   \n",
       "5695        103       13.60          102          9.56           2   \n",
       "5696        109       15.24          129         11.30           3   \n",
       "5697        132       19.91           87          8.63           3   \n",
       "5698         89       16.82           93         12.80           2   \n",
       "5699         82       19.70           83         12.76           1   \n",
       "\n",
       "      Intl Charge  State Area Code     Phone Churn  \n",
       "0            2.70     KS       415  382-4657     0  \n",
       "1            3.70     OH       415  371-7191     0  \n",
       "2            3.29     NJ       415  358-1921     0  \n",
       "3            1.78     OH       408  375-9999     0  \n",
       "4            2.73     OK       415  330-6626     0  \n",
       "...           ...    ...       ...       ...   ...  \n",
       "5695         1.35     DE       510  361-6563     1  \n",
       "5696         4.19     MS       415  333-9002     1  \n",
       "5697         2.40     MI       408  389-4608     1  \n",
       "5698         3.16     MT       415  341-4873     1  \n",
       "5699         1.67     MD       408  376-4292     1  \n",
       "\n",
       "[5700 rows x 21 columns]"
      ]
     },
     "execution_count": 280,
     "metadata": {},
     "output_type": "execute_result"
    }
   ],
   "source": [
    "df"
   ]
  },
  {
   "cell_type": "code",
   "execution_count": 281,
   "id": "faf6de58",
   "metadata": {},
   "outputs": [
    {
     "data": {
      "image/png": "[encoded data removed]",
      "text/plain": [
       "<Figure size 432x288 with 1 Axes>"
      ]
     },
     "metadata": {
      "needs_background": "light"
     },
     "output_type": "display_data"
    }
   ],
   "source": [
    "sns.kdeplot(df['Account Length'],hue = df['Churn'])\n",
    "plt.show()"
   ]
  },
  {
   "cell_type": "markdown",
   "id": "15f7bc31",
   "metadata": {},
   "source": [
    "##### Obs: no significant impact of account length on churning"
   ]
  },
  {
   "cell_type": "code",
   "execution_count": 282,
   "id": "00880873",
   "metadata": {},
   "outputs": [],
   "source": [
    "import warnings\n",
    "\n",
    "warnings.filterwarnings('ignore')"
   ]
  },
  {
   "cell_type": "code",
   "execution_count": 283,
   "id": "d85f2e56",
   "metadata": {},
   "outputs": [
    {
     "data": {
      "text/plain": [
       "<AxesSubplot:xlabel='Churn', ylabel='Account Length'>"
      ]
     },
     "execution_count": 283,
     "metadata": {},
     "output_type": "execute_result"
    },
    {
     "data": {
      "image/png": "[encoded data removed]",
      "text/plain": [
       "<Figure size 432x288 with 1 Axes>"
      ]
     },
     "metadata": {
      "needs_background": "light"
     },
     "output_type": "display_data"
    }
   ],
   "source": [
    "sns.boxplot(x = df['Churn'], y = df['Account Length'])"
   ]
  },
  {
   "cell_type": "markdown",
   "id": "9d62a9bb",
   "metadata": {},
   "source": [
    "##### Obs: outliers detected"
   ]
  },
  {
   "cell_type": "code",
   "execution_count": 284,
   "id": "091880d8",
   "metadata": {},
   "outputs": [
    {
     "data": {
      "text/plain": [
       "<AxesSubplot:xlabel='Account Length', ylabel='Churn'>"
      ]
     },
     "execution_count": 284,
     "metadata": {},
     "output_type": "execute_result"
    },
    {
     "data": {
      "image/png": "[encoded data removed]",
      "text/plain": [
       "<Figure size 432x288 with 1 Axes>"
      ]
     },
     "metadata": {
      "needs_background": "light"
     },
     "output_type": "display_data"
    }
   ],
   "source": [
    "sns.scatterplot(y = df['Churn'], x = df['Account Length'])"
   ]
  },
  {
   "cell_type": "markdown",
   "id": "99d14bab",
   "metadata": {},
   "source": [
    "let's remove the outliers!"
   ]
  },
  {
   "cell_type": "code",
   "execution_count": 285,
   "id": "e8418536",
   "metadata": {},
   "outputs": [
    {
     "data": {
      "text/plain": [
       "150"
      ]
     },
     "execution_count": 285,
     "metadata": {},
     "output_type": "execute_result"
    }
   ],
   "source": [
    "iqr = np.percentile(df['Account Length'], 75) - np.percentile(df['Account Length'], 25)\n",
    "mid = np.percentile(df['Account Length'], 50)\n",
    "\n",
    "df[df['Account Length'] > mid + 1.5 * iqr]['Account Length'].size"
   ]
  },
  {
   "cell_type": "markdown",
   "id": "2a06e53f",
   "metadata": {},
   "source": [
    "##### Account Length has 150 outliers "
   ]
  },
  {
   "cell_type": "code",
   "execution_count": 286,
   "id": "10390b5a",
   "metadata": {},
   "outputs": [
    {
     "data": {
      "text/plain": [
       "<AxesSubplot:xlabel='VMail Message', ylabel='Density'>"
      ]
     },
     "execution_count": 286,
     "metadata": {},
     "output_type": "execute_result"
    },
    {
     "data": {
      "image/png": "[encoded data removed]",
      "text/plain": [
       "<Figure size 432x288 with 1 Axes>"
      ]
     },
     "metadata": {
      "needs_background": "light"
     },
     "output_type": "display_data"
    }
   ],
   "source": [
    "sns.kdeplot(df['VMail Message'])"
   ]
  },
  {
   "cell_type": "code",
   "execution_count": 287,
   "id": "a2cee4cc",
   "metadata": {},
   "outputs": [
    {
     "data": {
      "text/html": [
       "<div>\n",
       "<style scoped>\n",
       "    .dataframe tbody tr th:only-of-type {\n",
       "        vertical-align: middle;\n",
       "    }\n",
       "\n",
       "    .dataframe tbody tr th {\n",
       "        vertical-align: top;\n",
       "    }\n",
       "\n",
       "    .dataframe thead th {\n",
       "        text-align: right;\n",
       "    }\n",
       "</style>\n",
       "<table border=\"1\" class=\"dataframe\">\n",
       "  <thead>\n",
       "    <tr style=\"text-align: right;\">\n",
       "      <th></th>\n",
       "      <th>Account Length</th>\n",
       "      <th>VMail Message</th>\n",
       "      <th>Day Mins</th>\n",
       "      <th>Eve Mins</th>\n",
       "      <th>Night Mins</th>\n",
       "      <th>Intl Mins</th>\n",
       "      <th>CustServ Calls</th>\n",
       "      <th>Intl Plan</th>\n",
       "      <th>VMail Plan</th>\n",
       "      <th>Day Calls</th>\n",
       "      <th>...</th>\n",
       "      <th>Eve Calls</th>\n",
       "      <th>Eve Charge</th>\n",
       "      <th>Night Calls</th>\n",
       "      <th>Night Charge</th>\n",
       "      <th>Intl Calls</th>\n",
       "      <th>Intl Charge</th>\n",
       "      <th>State</th>\n",
       "      <th>Area Code</th>\n",
       "      <th>Phone</th>\n",
       "      <th>Churn</th>\n",
       "    </tr>\n",
       "  </thead>\n",
       "  <tbody>\n",
       "    <tr>\n",
       "      <th>0</th>\n",
       "      <td>128</td>\n",
       "      <td>25</td>\n",
       "      <td>265.1</td>\n",
       "      <td>197.4</td>\n",
       "      <td>244.7</td>\n",
       "      <td>10.0</td>\n",
       "      <td>1</td>\n",
       "      <td>0</td>\n",
       "      <td>1</td>\n",
       "      <td>110</td>\n",
       "      <td>...</td>\n",
       "      <td>99</td>\n",
       "      <td>16.78</td>\n",
       "      <td>91</td>\n",
       "      <td>11.01</td>\n",
       "      <td>3</td>\n",
       "      <td>2.70</td>\n",
       "      <td>KS</td>\n",
       "      <td>415</td>\n",
       "      <td>382-4657</td>\n",
       "      <td>0</td>\n",
       "    </tr>\n",
       "    <tr>\n",
       "      <th>1</th>\n",
       "      <td>107</td>\n",
       "      <td>26</td>\n",
       "      <td>161.6</td>\n",
       "      <td>195.5</td>\n",
       "      <td>254.4</td>\n",
       "      <td>13.7</td>\n",
       "      <td>1</td>\n",
       "      <td>0</td>\n",
       "      <td>1</td>\n",
       "      <td>123</td>\n",
       "      <td>...</td>\n",
       "      <td>103</td>\n",
       "      <td>16.62</td>\n",
       "      <td>103</td>\n",
       "      <td>11.45</td>\n",
       "      <td>3</td>\n",
       "      <td>3.70</td>\n",
       "      <td>OH</td>\n",
       "      <td>415</td>\n",
       "      <td>371-7191</td>\n",
       "      <td>0</td>\n",
       "    </tr>\n",
       "    <tr>\n",
       "      <th>2</th>\n",
       "      <td>137</td>\n",
       "      <td>0</td>\n",
       "      <td>243.4</td>\n",
       "      <td>121.2</td>\n",
       "      <td>162.6</td>\n",
       "      <td>12.2</td>\n",
       "      <td>0</td>\n",
       "      <td>0</td>\n",
       "      <td>0</td>\n",
       "      <td>114</td>\n",
       "      <td>...</td>\n",
       "      <td>110</td>\n",
       "      <td>10.30</td>\n",
       "      <td>104</td>\n",
       "      <td>7.32</td>\n",
       "      <td>5</td>\n",
       "      <td>3.29</td>\n",
       "      <td>NJ</td>\n",
       "      <td>415</td>\n",
       "      <td>358-1921</td>\n",
       "      <td>0</td>\n",
       "    </tr>\n",
       "    <tr>\n",
       "      <th>3</th>\n",
       "      <td>84</td>\n",
       "      <td>0</td>\n",
       "      <td>299.4</td>\n",
       "      <td>61.9</td>\n",
       "      <td>196.9</td>\n",
       "      <td>6.6</td>\n",
       "      <td>2</td>\n",
       "      <td>1</td>\n",
       "      <td>0</td>\n",
       "      <td>71</td>\n",
       "      <td>...</td>\n",
       "      <td>88</td>\n",
       "      <td>5.26</td>\n",
       "      <td>89</td>\n",
       "      <td>8.86</td>\n",
       "      <td>7</td>\n",
       "      <td>1.78</td>\n",
       "      <td>OH</td>\n",
       "      <td>408</td>\n",
       "      <td>375-9999</td>\n",
       "      <td>0</td>\n",
       "    </tr>\n",
       "    <tr>\n",
       "      <th>4</th>\n",
       "      <td>75</td>\n",
       "      <td>0</td>\n",
       "      <td>166.7</td>\n",
       "      <td>148.3</td>\n",
       "      <td>186.9</td>\n",
       "      <td>10.1</td>\n",
       "      <td>3</td>\n",
       "      <td>1</td>\n",
       "      <td>0</td>\n",
       "      <td>113</td>\n",
       "      <td>...</td>\n",
       "      <td>122</td>\n",
       "      <td>12.61</td>\n",
       "      <td>121</td>\n",
       "      <td>8.41</td>\n",
       "      <td>3</td>\n",
       "      <td>2.73</td>\n",
       "      <td>OK</td>\n",
       "      <td>415</td>\n",
       "      <td>330-6626</td>\n",
       "      <td>0</td>\n",
       "    </tr>\n",
       "    <tr>\n",
       "      <th>...</th>\n",
       "      <td>...</td>\n",
       "      <td>...</td>\n",
       "      <td>...</td>\n",
       "      <td>...</td>\n",
       "      <td>...</td>\n",
       "      <td>...</td>\n",
       "      <td>...</td>\n",
       "      <td>...</td>\n",
       "      <td>...</td>\n",
       "      <td>...</td>\n",
       "      <td>...</td>\n",
       "      <td>...</td>\n",
       "      <td>...</td>\n",
       "      <td>...</td>\n",
       "      <td>...</td>\n",
       "      <td>...</td>\n",
       "      <td>...</td>\n",
       "      <td>...</td>\n",
       "      <td>...</td>\n",
       "      <td>...</td>\n",
       "      <td>...</td>\n",
       "    </tr>\n",
       "    <tr>\n",
       "      <th>5695</th>\n",
       "      <td>224</td>\n",
       "      <td>0</td>\n",
       "      <td>171.5</td>\n",
       "      <td>160.0</td>\n",
       "      <td>212.4</td>\n",
       "      <td>5.0</td>\n",
       "      <td>1</td>\n",
       "      <td>1</td>\n",
       "      <td>0</td>\n",
       "      <td>99</td>\n",
       "      <td>...</td>\n",
       "      <td>103</td>\n",
       "      <td>13.60</td>\n",
       "      <td>102</td>\n",
       "      <td>9.56</td>\n",
       "      <td>2</td>\n",
       "      <td>1.35</td>\n",
       "      <td>DE</td>\n",
       "      <td>510</td>\n",
       "      <td>361-6563</td>\n",
       "      <td>1</td>\n",
       "    </tr>\n",
       "    <tr>\n",
       "      <th>5696</th>\n",
       "      <td>131</td>\n",
       "      <td>0</td>\n",
       "      <td>131.6</td>\n",
       "      <td>179.3</td>\n",
       "      <td>251.2</td>\n",
       "      <td>15.5</td>\n",
       "      <td>1</td>\n",
       "      <td>0</td>\n",
       "      <td>0</td>\n",
       "      <td>95</td>\n",
       "      <td>...</td>\n",
       "      <td>109</td>\n",
       "      <td>15.24</td>\n",
       "      <td>129</td>\n",
       "      <td>11.30</td>\n",
       "      <td>3</td>\n",
       "      <td>4.19</td>\n",
       "      <td>MS</td>\n",
       "      <td>415</td>\n",
       "      <td>333-9002</td>\n",
       "      <td>1</td>\n",
       "    </tr>\n",
       "    <tr>\n",
       "      <th>5697</th>\n",
       "      <td>132</td>\n",
       "      <td>0</td>\n",
       "      <td>291.2</td>\n",
       "      <td>234.2</td>\n",
       "      <td>191.7</td>\n",
       "      <td>8.9</td>\n",
       "      <td>1</td>\n",
       "      <td>0</td>\n",
       "      <td>0</td>\n",
       "      <td>104</td>\n",
       "      <td>...</td>\n",
       "      <td>132</td>\n",
       "      <td>19.91</td>\n",
       "      <td>87</td>\n",
       "      <td>8.63</td>\n",
       "      <td>3</td>\n",
       "      <td>2.40</td>\n",
       "      <td>MI</td>\n",
       "      <td>408</td>\n",
       "      <td>389-4608</td>\n",
       "      <td>1</td>\n",
       "    </tr>\n",
       "    <tr>\n",
       "      <th>5698</th>\n",
       "      <td>100</td>\n",
       "      <td>0</td>\n",
       "      <td>113.3</td>\n",
       "      <td>197.9</td>\n",
       "      <td>284.5</td>\n",
       "      <td>11.7</td>\n",
       "      <td>4</td>\n",
       "      <td>0</td>\n",
       "      <td>0</td>\n",
       "      <td>96</td>\n",
       "      <td>...</td>\n",
       "      <td>89</td>\n",
       "      <td>16.82</td>\n",
       "      <td>93</td>\n",
       "      <td>12.80</td>\n",
       "      <td>2</td>\n",
       "      <td>3.16</td>\n",
       "      <td>MT</td>\n",
       "      <td>415</td>\n",
       "      <td>341-4873</td>\n",
       "      <td>1</td>\n",
       "    </tr>\n",
       "    <tr>\n",
       "      <th>5699</th>\n",
       "      <td>147</td>\n",
       "      <td>0</td>\n",
       "      <td>274.0</td>\n",
       "      <td>231.8</td>\n",
       "      <td>283.6</td>\n",
       "      <td>6.2</td>\n",
       "      <td>0</td>\n",
       "      <td>0</td>\n",
       "      <td>0</td>\n",
       "      <td>92</td>\n",
       "      <td>...</td>\n",
       "      <td>82</td>\n",
       "      <td>19.70</td>\n",
       "      <td>83</td>\n",
       "      <td>12.76</td>\n",
       "      <td>1</td>\n",
       "      <td>1.67</td>\n",
       "      <td>MD</td>\n",
       "      <td>408</td>\n",
       "      <td>376-4292</td>\n",
       "      <td>1</td>\n",
       "    </tr>\n",
       "  </tbody>\n",
       "</table>\n",
       "<p>5700 rows × 21 columns</p>\n",
       "</div>"
      ],
      "text/plain": [
       "      Account Length  VMail Message  Day Mins  Eve Mins  Night Mins  \\\n",
       "0                128             25     265.1     197.4       244.7   \n",
       "1                107             26     161.6     195.5       254.4   \n",
       "2                137              0     243.4     121.2       162.6   \n",
       "3                 84              0     299.4      61.9       196.9   \n",
       "4                 75              0     166.7     148.3       186.9   \n",
       "...              ...            ...       ...       ...         ...   \n",
       "5695             224              0     171.5     160.0       212.4   \n",
       "5696             131              0     131.6     179.3       251.2   \n",
       "5697             132              0     291.2     234.2       191.7   \n",
       "5698             100              0     113.3     197.9       284.5   \n",
       "5699             147              0     274.0     231.8       283.6   \n",
       "\n",
       "      Intl Mins  CustServ Calls  Intl Plan  VMail Plan  Day Calls  ...  \\\n",
       "0          10.0               1          0           1        110  ...   \n",
       "1          13.7               1          0           1        123  ...   \n",
       "2          12.2               0          0           0        114  ...   \n",
       "3           6.6               2          1           0         71  ...   \n",
       "4          10.1               3          1           0        113  ...   \n",
       "...         ...             ...        ...         ...        ...  ...   \n",
       "5695        5.0               1          1           0         99  ...   \n",
       "5696       15.5               1          0           0         95  ...   \n",
       "5697        8.9               1          0           0        104  ...   \n",
       "5698       11.7               4          0           0         96  ...   \n",
       "5699        6.2               0          0           0         92  ...   \n",
       "\n",
       "      Eve Calls  Eve Charge  Night Calls  Night Charge  Intl Calls  \\\n",
       "0            99       16.78           91         11.01           3   \n",
       "1           103       16.62          103         11.45           3   \n",
       "2           110       10.30          104          7.32           5   \n",
       "3            88        5.26           89          8.86           7   \n",
       "4           122       12.61          121          8.41           3   \n",
       "...         ...         ...          ...           ...         ...   \n",
       "5695        103       13.60          102          9.56           2   \n",
       "5696        109       15.24          129         11.30           3   \n",
       "5697        132       19.91           87          8.63           3   \n",
       "5698         89       16.82           93         12.80           2   \n",
       "5699         82       19.70           83         12.76           1   \n",
       "\n",
       "      Intl Charge  State Area Code     Phone Churn  \n",
       "0            2.70     KS       415  382-4657     0  \n",
       "1            3.70     OH       415  371-7191     0  \n",
       "2            3.29     NJ       415  358-1921     0  \n",
       "3            1.78     OH       408  375-9999     0  \n",
       "4            2.73     OK       415  330-6626     0  \n",
       "...           ...    ...       ...       ...   ...  \n",
       "5695         1.35     DE       510  361-6563     1  \n",
       "5696         4.19     MS       415  333-9002     1  \n",
       "5697         2.40     MI       408  389-4608     1  \n",
       "5698         3.16     MT       415  341-4873     1  \n",
       "5699         1.67     MD       408  376-4292     1  \n",
       "\n",
       "[5700 rows x 21 columns]"
      ]
     },
     "execution_count": 287,
     "metadata": {},
     "output_type": "execute_result"
    }
   ],
   "source": [
    "df"
   ]
  },
  {
   "cell_type": "code",
   "execution_count": 288,
   "id": "048f6e96",
   "metadata": {},
   "outputs": [
    {
     "data": {
      "text/plain": [
       "<AxesSubplot:xlabel='Churn', ylabel='Day Mins'>"
      ]
     },
     "execution_count": 288,
     "metadata": {},
     "output_type": "execute_result"
    },
    {
     "data": {
      "image/png": "[encoded data removed]",
      "text/plain": [
       "<Figure size 432x288 with 1 Axes>"
      ]
     },
     "metadata": {
      "needs_background": "light"
     },
     "output_type": "display_data"
    }
   ],
   "source": [
    "sns.boxplot(x = df.Churn, y = df['Day Mins'])"
   ]
  },
  {
   "cell_type": "code",
   "execution_count": 289,
   "id": "4591ec6e",
   "metadata": {},
   "outputs": [
    {
     "data": {
      "text/plain": [
       "<AxesSubplot:xlabel='Churn', ylabel='Eve Mins'>"
      ]
     },
     "execution_count": 289,
     "metadata": {},
     "output_type": "execute_result"
    },
    {
     "data": {
      "image/png": "[encoded data removed]",
      "text/plain": [
       "<Figure size 432x288 with 1 Axes>"
      ]
     },
     "metadata": {
      "needs_background": "light"
     },
     "output_type": "display_data"
    }
   ],
   "source": [
    "sns.boxplot(x = df.Churn, y = df['Eve Mins'])"
   ]
  },
  {
   "cell_type": "code",
   "execution_count": 290,
   "id": "20b305aa",
   "metadata": {},
   "outputs": [
    {
     "data": {
      "text/plain": [
       "<AxesSubplot:xlabel='Churn', ylabel='Night Mins'>"
      ]
     },
     "execution_count": 290,
     "metadata": {},
     "output_type": "execute_result"
    },
    {
     "data": {
      "image/png": "[encoded data removed]",
      "text/plain": [
       "<Figure size 432x288 with 1 Axes>"
      ]
     },
     "metadata": {
      "needs_background": "light"
     },
     "output_type": "display_data"
    }
   ],
   "source": [
    "sns.boxplot(x = df.Churn, y = df['Night Mins'])"
   ]
  },
  {
   "cell_type": "code",
   "execution_count": 291,
   "id": "773c1203",
   "metadata": {},
   "outputs": [
    {
     "data": {
      "text/plain": [
       "<AxesSubplot:xlabel='Churn'>"
      ]
     },
     "execution_count": 291,
     "metadata": {},
     "output_type": "execute_result"
    },
    {
     "data": {
      "image/png": "[encoded data removed]",
      "text/plain": [
       "<Figure size 432x288 with 1 Axes>"
      ]
     },
     "metadata": {
      "needs_background": "light"
     },
     "output_type": "display_data"
    }
   ],
   "source": [
    "total_mins = df['Day Mins'] + df['Eve Mins'] + df['Night Mins']\n",
    "sns.boxplot(x = df.Churn, y = total_mins)"
   ]
  },
  {
   "cell_type": "markdown",
   "id": "e21a5a49",
   "metadata": {},
   "source": [
    "##### Obs: outliers detected! and talking mins can significantly impact weather or not a person churn"
   ]
  },
  {
   "cell_type": "code",
   "execution_count": 292,
   "id": "f7b3ed55",
   "metadata": {},
   "outputs": [
    {
     "data": {
      "text/plain": [
       "<AxesSubplot:ylabel='Density'>"
      ]
     },
     "execution_count": 292,
     "metadata": {},
     "output_type": "execute_result"
    },
    {
     "data": {
      "image/png": "[encoded data removed]",
      "text/plain": [
       "<Figure size 432x288 with 1 Axes>"
      ]
     },
     "metadata": {
      "needs_background": "light"
     },
     "output_type": "display_data"
    }
   ],
   "source": [
    "sns.kdeplot(total_mins , hue=df.Churn)"
   ]
  },
  {
   "cell_type": "code",
   "execution_count": 293,
   "id": "d7c3fec3",
   "metadata": {},
   "outputs": [
    {
     "data": {
      "text/plain": [
       "<AxesSubplot:>"
      ]
     },
     "execution_count": 293,
     "metadata": {},
     "output_type": "execute_result"
    },
    {
     "data": {
      "image/png": "[encoded data removed]",
      "text/plain": [
       "<Figure size 432x288 with 2 Axes>"
      ]
     },
     "metadata": {
      "needs_background": "light"
     },
     "output_type": "display_data"
    }
   ],
   "source": [
    "sns.heatmap(df.corr())"
   ]
  },
  {
   "cell_type": "code",
   "execution_count": 294,
   "id": "b7b7ef70",
   "metadata": {},
   "outputs": [
    {
     "data": {
      "text/plain": [
       "array([[2008, 2374],\n",
       "       [ 842,  476]], dtype=int64)"
      ]
     },
     "execution_count": 294,
     "metadata": {},
     "output_type": "execute_result"
    }
   ],
   "source": [
    "from sklearn.metrics import confusion_matrix\n",
    "confusion_matrix(df['VMail Plan'], df['Churn'])"
   ]
  },
  {
   "cell_type": "code",
   "execution_count": 295,
   "id": "48cedaa6",
   "metadata": {},
   "outputs": [
    {
     "data": {
      "text/plain": [
       "<AxesSubplot:xlabel='VMail Plan', ylabel='Churn'>"
      ]
     },
     "execution_count": 295,
     "metadata": {},
     "output_type": "execute_result"
    },
    {
     "data": {
      "image/png": "[encoded data removed]",
      "text/plain": [
       "<Figure size 432x288 with 1 Axes>"
      ]
     },
     "metadata": {
      "needs_background": "light"
     },
     "output_type": "display_data"
    }
   ],
   "source": [
    "sns.kdeplot(df['VMail Plan'], df['Churn'], levels=5, color='orange')"
   ]
  },
  {
   "cell_type": "markdown",
   "id": "eebf2554",
   "metadata": {},
   "source": [
    "##### by observing above matrix we can clearly see that the persons not taking the vmail plans are churning the most, which don't make any sense hence vmail can be also considered unnecessary"
   ]
  },
  {
   "cell_type": "code",
   "execution_count": 296,
   "id": "c40e0c2f",
   "metadata": {},
   "outputs": [],
   "source": [
    "df.drop(['Phone'], axis = 1, inplace = True)"
   ]
  },
  {
   "cell_type": "code",
   "execution_count": 297,
   "id": "33668b83",
   "metadata": {},
   "outputs": [
    {
     "data": {
      "text/plain": [
       "<AxesSubplot:xlabel='CustServ Calls', ylabel='Density'>"
      ]
     },
     "execution_count": 297,
     "metadata": {},
     "output_type": "execute_result"
    },
    {
     "data": {
      "image/png": "[encoded data removed]",
      "text/plain": [
       "<Figure size 432x288 with 1 Axes>"
      ]
     },
     "metadata": {
      "needs_background": "light"
     },
     "output_type": "display_data"
    }
   ],
   "source": [
    "sns.kdeplot(df['CustServ Calls'], hue = df.Churn)"
   ]
  },
  {
   "cell_type": "markdown",
   "id": "5d3f8e5f",
   "metadata": {},
   "source": [
    "##### obs: the persons who does a little higher no of customer calls are likely to churn: hence it's a good feature!"
   ]
  },
  {
   "cell_type": "code",
   "execution_count": 298,
   "id": "b6584542",
   "metadata": {},
   "outputs": [
    {
     "data": {
      "text/plain": [
       "<AxesSubplot:>"
      ]
     },
     "execution_count": 298,
     "metadata": {},
     "output_type": "execute_result"
    },
    {
     "data": {
      "image/png": "[encoded data removed]",
      "text/plain": [
       "<Figure size 1152x432 with 2 Axes>"
      ]
     },
     "metadata": {
      "needs_background": "light"
     },
     "output_type": "display_data"
    }
   ],
   "source": [
    "plt.figure(figsize=(16,6))\n",
    "sns.heatmap(df.corr(), annot=True)"
   ]
  },
  {
   "cell_type": "markdown",
   "id": "e4723b13",
   "metadata": {},
   "source": [
    "##### also we can notice that CustServ calls has a comparatively good depencency with the curining of the customers... with correlation = 0.29"
   ]
  },
  {
   "cell_type": "code",
   "execution_count": 299,
   "id": "370b07d0",
   "metadata": {},
   "outputs": [
    {
     "data": {
      "text/html": [
       "<div>\n",
       "<style scoped>\n",
       "    .dataframe tbody tr th:only-of-type {\n",
       "        vertical-align: middle;\n",
       "    }\n",
       "\n",
       "    .dataframe tbody tr th {\n",
       "        vertical-align: top;\n",
       "    }\n",
       "\n",
       "    .dataframe thead th {\n",
       "        text-align: right;\n",
       "    }\n",
       "</style>\n",
       "<table border=\"1\" class=\"dataframe\">\n",
       "  <thead>\n",
       "    <tr style=\"text-align: right;\">\n",
       "      <th></th>\n",
       "      <th>Account Length</th>\n",
       "      <th>VMail Message</th>\n",
       "      <th>Day Mins</th>\n",
       "      <th>Eve Mins</th>\n",
       "      <th>Night Mins</th>\n",
       "      <th>Intl Mins</th>\n",
       "      <th>CustServ Calls</th>\n",
       "      <th>Intl Plan</th>\n",
       "      <th>VMail Plan</th>\n",
       "      <th>Day Calls</th>\n",
       "      <th>Day Charge</th>\n",
       "      <th>Eve Calls</th>\n",
       "      <th>Eve Charge</th>\n",
       "      <th>Night Calls</th>\n",
       "      <th>Night Charge</th>\n",
       "      <th>Intl Calls</th>\n",
       "      <th>Intl Charge</th>\n",
       "      <th>State</th>\n",
       "      <th>Area Code</th>\n",
       "      <th>Churn</th>\n",
       "    </tr>\n",
       "  </thead>\n",
       "  <tbody>\n",
       "    <tr>\n",
       "      <th>0</th>\n",
       "      <td>128</td>\n",
       "      <td>25</td>\n",
       "      <td>265.1</td>\n",
       "      <td>197.4</td>\n",
       "      <td>244.7</td>\n",
       "      <td>10.0</td>\n",
       "      <td>1</td>\n",
       "      <td>0</td>\n",
       "      <td>1</td>\n",
       "      <td>110</td>\n",
       "      <td>45.07</td>\n",
       "      <td>99</td>\n",
       "      <td>16.78</td>\n",
       "      <td>91</td>\n",
       "      <td>11.01</td>\n",
       "      <td>3</td>\n",
       "      <td>2.70</td>\n",
       "      <td>KS</td>\n",
       "      <td>415</td>\n",
       "      <td>0</td>\n",
       "    </tr>\n",
       "    <tr>\n",
       "      <th>1</th>\n",
       "      <td>107</td>\n",
       "      <td>26</td>\n",
       "      <td>161.6</td>\n",
       "      <td>195.5</td>\n",
       "      <td>254.4</td>\n",
       "      <td>13.7</td>\n",
       "      <td>1</td>\n",
       "      <td>0</td>\n",
       "      <td>1</td>\n",
       "      <td>123</td>\n",
       "      <td>27.47</td>\n",
       "      <td>103</td>\n",
       "      <td>16.62</td>\n",
       "      <td>103</td>\n",
       "      <td>11.45</td>\n",
       "      <td>3</td>\n",
       "      <td>3.70</td>\n",
       "      <td>OH</td>\n",
       "      <td>415</td>\n",
       "      <td>0</td>\n",
       "    </tr>\n",
       "    <tr>\n",
       "      <th>2</th>\n",
       "      <td>137</td>\n",
       "      <td>0</td>\n",
       "      <td>243.4</td>\n",
       "      <td>121.2</td>\n",
       "      <td>162.6</td>\n",
       "      <td>12.2</td>\n",
       "      <td>0</td>\n",
       "      <td>0</td>\n",
       "      <td>0</td>\n",
       "      <td>114</td>\n",
       "      <td>41.38</td>\n",
       "      <td>110</td>\n",
       "      <td>10.30</td>\n",
       "      <td>104</td>\n",
       "      <td>7.32</td>\n",
       "      <td>5</td>\n",
       "      <td>3.29</td>\n",
       "      <td>NJ</td>\n",
       "      <td>415</td>\n",
       "      <td>0</td>\n",
       "    </tr>\n",
       "    <tr>\n",
       "      <th>3</th>\n",
       "      <td>84</td>\n",
       "      <td>0</td>\n",
       "      <td>299.4</td>\n",
       "      <td>61.9</td>\n",
       "      <td>196.9</td>\n",
       "      <td>6.6</td>\n",
       "      <td>2</td>\n",
       "      <td>1</td>\n",
       "      <td>0</td>\n",
       "      <td>71</td>\n",
       "      <td>50.90</td>\n",
       "      <td>88</td>\n",
       "      <td>5.26</td>\n",
       "      <td>89</td>\n",
       "      <td>8.86</td>\n",
       "      <td>7</td>\n",
       "      <td>1.78</td>\n",
       "      <td>OH</td>\n",
       "      <td>408</td>\n",
       "      <td>0</td>\n",
       "    </tr>\n",
       "    <tr>\n",
       "      <th>4</th>\n",
       "      <td>75</td>\n",
       "      <td>0</td>\n",
       "      <td>166.7</td>\n",
       "      <td>148.3</td>\n",
       "      <td>186.9</td>\n",
       "      <td>10.1</td>\n",
       "      <td>3</td>\n",
       "      <td>1</td>\n",
       "      <td>0</td>\n",
       "      <td>113</td>\n",
       "      <td>28.34</td>\n",
       "      <td>122</td>\n",
       "      <td>12.61</td>\n",
       "      <td>121</td>\n",
       "      <td>8.41</td>\n",
       "      <td>3</td>\n",
       "      <td>2.73</td>\n",
       "      <td>OK</td>\n",
       "      <td>415</td>\n",
       "      <td>0</td>\n",
       "    </tr>\n",
       "    <tr>\n",
       "      <th>...</th>\n",
       "      <td>...</td>\n",
       "      <td>...</td>\n",
       "      <td>...</td>\n",
       "      <td>...</td>\n",
       "      <td>...</td>\n",
       "      <td>...</td>\n",
       "      <td>...</td>\n",
       "      <td>...</td>\n",
       "      <td>...</td>\n",
       "      <td>...</td>\n",
       "      <td>...</td>\n",
       "      <td>...</td>\n",
       "      <td>...</td>\n",
       "      <td>...</td>\n",
       "      <td>...</td>\n",
       "      <td>...</td>\n",
       "      <td>...</td>\n",
       "      <td>...</td>\n",
       "      <td>...</td>\n",
       "      <td>...</td>\n",
       "    </tr>\n",
       "    <tr>\n",
       "      <th>5695</th>\n",
       "      <td>224</td>\n",
       "      <td>0</td>\n",
       "      <td>171.5</td>\n",
       "      <td>160.0</td>\n",
       "      <td>212.4</td>\n",
       "      <td>5.0</td>\n",
       "      <td>1</td>\n",
       "      <td>1</td>\n",
       "      <td>0</td>\n",
       "      <td>99</td>\n",
       "      <td>29.16</td>\n",
       "      <td>103</td>\n",
       "      <td>13.60</td>\n",
       "      <td>102</td>\n",
       "      <td>9.56</td>\n",
       "      <td>2</td>\n",
       "      <td>1.35</td>\n",
       "      <td>DE</td>\n",
       "      <td>510</td>\n",
       "      <td>1</td>\n",
       "    </tr>\n",
       "    <tr>\n",
       "      <th>5696</th>\n",
       "      <td>131</td>\n",
       "      <td>0</td>\n",
       "      <td>131.6</td>\n",
       "      <td>179.3</td>\n",
       "      <td>251.2</td>\n",
       "      <td>15.5</td>\n",
       "      <td>1</td>\n",
       "      <td>0</td>\n",
       "      <td>0</td>\n",
       "      <td>95</td>\n",
       "      <td>22.37</td>\n",
       "      <td>109</td>\n",
       "      <td>15.24</td>\n",
       "      <td>129</td>\n",
       "      <td>11.30</td>\n",
       "      <td>3</td>\n",
       "      <td>4.19</td>\n",
       "      <td>MS</td>\n",
       "      <td>415</td>\n",
       "      <td>1</td>\n",
       "    </tr>\n",
       "    <tr>\n",
       "      <th>5697</th>\n",
       "      <td>132</td>\n",
       "      <td>0</td>\n",
       "      <td>291.2</td>\n",
       "      <td>234.2</td>\n",
       "      <td>191.7</td>\n",
       "      <td>8.9</td>\n",
       "      <td>1</td>\n",
       "      <td>0</td>\n",
       "      <td>0</td>\n",
       "      <td>104</td>\n",
       "      <td>49.50</td>\n",
       "      <td>132</td>\n",
       "      <td>19.91</td>\n",
       "      <td>87</td>\n",
       "      <td>8.63</td>\n",
       "      <td>3</td>\n",
       "      <td>2.40</td>\n",
       "      <td>MI</td>\n",
       "      <td>408</td>\n",
       "      <td>1</td>\n",
       "    </tr>\n",
       "    <tr>\n",
       "      <th>5698</th>\n",
       "      <td>100</td>\n",
       "      <td>0</td>\n",
       "      <td>113.3</td>\n",
       "      <td>197.9</td>\n",
       "      <td>284.5</td>\n",
       "      <td>11.7</td>\n",
       "      <td>4</td>\n",
       "      <td>0</td>\n",
       "      <td>0</td>\n",
       "      <td>96</td>\n",
       "      <td>19.26</td>\n",
       "      <td>89</td>\n",
       "      <td>16.82</td>\n",
       "      <td>93</td>\n",
       "      <td>12.80</td>\n",
       "      <td>2</td>\n",
       "      <td>3.16</td>\n",
       "      <td>MT</td>\n",
       "      <td>415</td>\n",
       "      <td>1</td>\n",
       "    </tr>\n",
       "    <tr>\n",
       "      <th>5699</th>\n",
       "      <td>147</td>\n",
       "      <td>0</td>\n",
       "      <td>274.0</td>\n",
       "      <td>231.8</td>\n",
       "      <td>283.6</td>\n",
       "      <td>6.2</td>\n",
       "      <td>0</td>\n",
       "      <td>0</td>\n",
       "      <td>0</td>\n",
       "      <td>92</td>\n",
       "      <td>46.58</td>\n",
       "      <td>82</td>\n",
       "      <td>19.70</td>\n",
       "      <td>83</td>\n",
       "      <td>12.76</td>\n",
       "      <td>1</td>\n",
       "      <td>1.67</td>\n",
       "      <td>MD</td>\n",
       "      <td>408</td>\n",
       "      <td>1</td>\n",
       "    </tr>\n",
       "  </tbody>\n",
       "</table>\n",
       "<p>5700 rows × 20 columns</p>\n",
       "</div>"
      ],
      "text/plain": [
       "      Account Length  VMail Message  Day Mins  Eve Mins  Night Mins  \\\n",
       "0                128             25     265.1     197.4       244.7   \n",
       "1                107             26     161.6     195.5       254.4   \n",
       "2                137              0     243.4     121.2       162.6   \n",
       "3                 84              0     299.4      61.9       196.9   \n",
       "4                 75              0     166.7     148.3       186.9   \n",
       "...              ...            ...       ...       ...         ...   \n",
       "5695             224              0     171.5     160.0       212.4   \n",
       "5696             131              0     131.6     179.3       251.2   \n",
       "5697             132              0     291.2     234.2       191.7   \n",
       "5698             100              0     113.3     197.9       284.5   \n",
       "5699             147              0     274.0     231.8       283.6   \n",
       "\n",
       "      Intl Mins  CustServ Calls  Intl Plan  VMail Plan  Day Calls  Day Charge  \\\n",
       "0          10.0               1          0           1        110       45.07   \n",
       "1          13.7               1          0           1        123       27.47   \n",
       "2          12.2               0          0           0        114       41.38   \n",
       "3           6.6               2          1           0         71       50.90   \n",
       "4          10.1               3          1           0        113       28.34   \n",
       "...         ...             ...        ...         ...        ...         ...   \n",
       "5695        5.0               1          1           0         99       29.16   \n",
       "5696       15.5               1          0           0         95       22.37   \n",
       "5697        8.9               1          0           0        104       49.50   \n",
       "5698       11.7               4          0           0         96       19.26   \n",
       "5699        6.2               0          0           0         92       46.58   \n",
       "\n",
       "      Eve Calls  Eve Charge  Night Calls  Night Charge  Intl Calls  \\\n",
       "0            99       16.78           91         11.01           3   \n",
       "1           103       16.62          103         11.45           3   \n",
       "2           110       10.30          104          7.32           5   \n",
       "3            88        5.26           89          8.86           7   \n",
       "4           122       12.61          121          8.41           3   \n",
       "...         ...         ...          ...           ...         ...   \n",
       "5695        103       13.60          102          9.56           2   \n",
       "5696        109       15.24          129         11.30           3   \n",
       "5697        132       19.91           87          8.63           3   \n",
       "5698         89       16.82           93         12.80           2   \n",
       "5699         82       19.70           83         12.76           1   \n",
       "\n",
       "      Intl Charge State  Area Code  Churn  \n",
       "0            2.70    KS        415      0  \n",
       "1            3.70    OH        415      0  \n",
       "2            3.29    NJ        415      0  \n",
       "3            1.78    OH        408      0  \n",
       "4            2.73    OK        415      0  \n",
       "...           ...   ...        ...    ...  \n",
       "5695         1.35    DE        510      1  \n",
       "5696         4.19    MS        415      1  \n",
       "5697         2.40    MI        408      1  \n",
       "5698         3.16    MT        415      1  \n",
       "5699         1.67    MD        408      1  \n",
       "\n",
       "[5700 rows x 20 columns]"
      ]
     },
     "execution_count": 299,
     "metadata": {},
     "output_type": "execute_result"
    }
   ],
   "source": [
    "df"
   ]
  },
  {
   "cell_type": "code",
   "execution_count": 300,
   "id": "bbabffad",
   "metadata": {},
   "outputs": [
    {
     "data": {
      "text/plain": [
       "array([[2664, 2032],\n",
       "       [ 186,  818]], dtype=int64)"
      ]
     },
     "execution_count": 300,
     "metadata": {},
     "output_type": "execute_result"
    }
   ],
   "source": [
    "from sklearn.metrics import confusion_matrix\n",
    "confusion_matrix(df['Intl Plan'], df['Churn'])"
   ]
  },
  {
   "cell_type": "code",
   "execution_count": 301,
   "id": "9ad40b31",
   "metadata": {},
   "outputs": [
    {
     "data": {
      "text/plain": [
       "<AxesSubplot:xlabel='Intl Plan', ylabel='Churn'>"
      ]
     },
     "execution_count": 301,
     "metadata": {},
     "output_type": "execute_result"
    },
    {
     "data": {
      "image/png": "[encoded data removed]",
      "text/plain": [
       "<Figure size 432x288 with 1 Axes>"
      ]
     },
     "metadata": {
      "needs_background": "light"
     },
     "output_type": "display_data"
    }
   ],
   "source": [
    "sns.kdeplot(df['Intl Plan'], df['Churn'], levels=5, color='red')"
   ]
  },
  {
   "cell_type": "code",
   "execution_count": 302,
   "id": "9bb95609",
   "metadata": {},
   "outputs": [],
   "source": [
    "# sns.kdeplot(df['Churn'], df['Account Length'], levels=5, color='red')"
   ]
  },
  {
   "cell_type": "code",
   "execution_count": 303,
   "id": "988cfb98",
   "metadata": {},
   "outputs": [
    {
     "data": {
      "text/html": [
       "<div>\n",
       "<style scoped>\n",
       "    .dataframe tbody tr th:only-of-type {\n",
       "        vertical-align: middle;\n",
       "    }\n",
       "\n",
       "    .dataframe tbody tr th {\n",
       "        vertical-align: top;\n",
       "    }\n",
       "\n",
       "    .dataframe thead th {\n",
       "        text-align: right;\n",
       "    }\n",
       "</style>\n",
       "<table border=\"1\" class=\"dataframe\">\n",
       "  <thead>\n",
       "    <tr style=\"text-align: right;\">\n",
       "      <th></th>\n",
       "      <th>Account Length</th>\n",
       "      <th>VMail Message</th>\n",
       "      <th>Day Mins</th>\n",
       "      <th>Eve Mins</th>\n",
       "      <th>Night Mins</th>\n",
       "      <th>Intl Mins</th>\n",
       "      <th>CustServ Calls</th>\n",
       "      <th>Intl Plan</th>\n",
       "      <th>VMail Plan</th>\n",
       "      <th>Day Calls</th>\n",
       "      <th>Day Charge</th>\n",
       "      <th>Eve Calls</th>\n",
       "      <th>Eve Charge</th>\n",
       "      <th>Night Calls</th>\n",
       "      <th>Night Charge</th>\n",
       "      <th>Intl Calls</th>\n",
       "      <th>Intl Charge</th>\n",
       "      <th>State</th>\n",
       "      <th>Area Code</th>\n",
       "      <th>Churn</th>\n",
       "    </tr>\n",
       "  </thead>\n",
       "  <tbody>\n",
       "    <tr>\n",
       "      <th>0</th>\n",
       "      <td>128</td>\n",
       "      <td>25</td>\n",
       "      <td>265.1</td>\n",
       "      <td>197.4</td>\n",
       "      <td>244.7</td>\n",
       "      <td>10.0</td>\n",
       "      <td>1</td>\n",
       "      <td>0</td>\n",
       "      <td>1</td>\n",
       "      <td>110</td>\n",
       "      <td>45.07</td>\n",
       "      <td>99</td>\n",
       "      <td>16.78</td>\n",
       "      <td>91</td>\n",
       "      <td>11.01</td>\n",
       "      <td>3</td>\n",
       "      <td>2.70</td>\n",
       "      <td>KS</td>\n",
       "      <td>415</td>\n",
       "      <td>0</td>\n",
       "    </tr>\n",
       "    <tr>\n",
       "      <th>1</th>\n",
       "      <td>107</td>\n",
       "      <td>26</td>\n",
       "      <td>161.6</td>\n",
       "      <td>195.5</td>\n",
       "      <td>254.4</td>\n",
       "      <td>13.7</td>\n",
       "      <td>1</td>\n",
       "      <td>0</td>\n",
       "      <td>1</td>\n",
       "      <td>123</td>\n",
       "      <td>27.47</td>\n",
       "      <td>103</td>\n",
       "      <td>16.62</td>\n",
       "      <td>103</td>\n",
       "      <td>11.45</td>\n",
       "      <td>3</td>\n",
       "      <td>3.70</td>\n",
       "      <td>OH</td>\n",
       "      <td>415</td>\n",
       "      <td>0</td>\n",
       "    </tr>\n",
       "    <tr>\n",
       "      <th>2</th>\n",
       "      <td>137</td>\n",
       "      <td>0</td>\n",
       "      <td>243.4</td>\n",
       "      <td>121.2</td>\n",
       "      <td>162.6</td>\n",
       "      <td>12.2</td>\n",
       "      <td>0</td>\n",
       "      <td>0</td>\n",
       "      <td>0</td>\n",
       "      <td>114</td>\n",
       "      <td>41.38</td>\n",
       "      <td>110</td>\n",
       "      <td>10.30</td>\n",
       "      <td>104</td>\n",
       "      <td>7.32</td>\n",
       "      <td>5</td>\n",
       "      <td>3.29</td>\n",
       "      <td>NJ</td>\n",
       "      <td>415</td>\n",
       "      <td>0</td>\n",
       "    </tr>\n",
       "    <tr>\n",
       "      <th>3</th>\n",
       "      <td>84</td>\n",
       "      <td>0</td>\n",
       "      <td>299.4</td>\n",
       "      <td>61.9</td>\n",
       "      <td>196.9</td>\n",
       "      <td>6.6</td>\n",
       "      <td>2</td>\n",
       "      <td>1</td>\n",
       "      <td>0</td>\n",
       "      <td>71</td>\n",
       "      <td>50.90</td>\n",
       "      <td>88</td>\n",
       "      <td>5.26</td>\n",
       "      <td>89</td>\n",
       "      <td>8.86</td>\n",
       "      <td>7</td>\n",
       "      <td>1.78</td>\n",
       "      <td>OH</td>\n",
       "      <td>408</td>\n",
       "      <td>0</td>\n",
       "    </tr>\n",
       "    <tr>\n",
       "      <th>4</th>\n",
       "      <td>75</td>\n",
       "      <td>0</td>\n",
       "      <td>166.7</td>\n",
       "      <td>148.3</td>\n",
       "      <td>186.9</td>\n",
       "      <td>10.1</td>\n",
       "      <td>3</td>\n",
       "      <td>1</td>\n",
       "      <td>0</td>\n",
       "      <td>113</td>\n",
       "      <td>28.34</td>\n",
       "      <td>122</td>\n",
       "      <td>12.61</td>\n",
       "      <td>121</td>\n",
       "      <td>8.41</td>\n",
       "      <td>3</td>\n",
       "      <td>2.73</td>\n",
       "      <td>OK</td>\n",
       "      <td>415</td>\n",
       "      <td>0</td>\n",
       "    </tr>\n",
       "    <tr>\n",
       "      <th>...</th>\n",
       "      <td>...</td>\n",
       "      <td>...</td>\n",
       "      <td>...</td>\n",
       "      <td>...</td>\n",
       "      <td>...</td>\n",
       "      <td>...</td>\n",
       "      <td>...</td>\n",
       "      <td>...</td>\n",
       "      <td>...</td>\n",
       "      <td>...</td>\n",
       "      <td>...</td>\n",
       "      <td>...</td>\n",
       "      <td>...</td>\n",
       "      <td>...</td>\n",
       "      <td>...</td>\n",
       "      <td>...</td>\n",
       "      <td>...</td>\n",
       "      <td>...</td>\n",
       "      <td>...</td>\n",
       "      <td>...</td>\n",
       "    </tr>\n",
       "    <tr>\n",
       "      <th>5695</th>\n",
       "      <td>224</td>\n",
       "      <td>0</td>\n",
       "      <td>171.5</td>\n",
       "      <td>160.0</td>\n",
       "      <td>212.4</td>\n",
       "      <td>5.0</td>\n",
       "      <td>1</td>\n",
       "      <td>1</td>\n",
       "      <td>0</td>\n",
       "      <td>99</td>\n",
       "      <td>29.16</td>\n",
       "      <td>103</td>\n",
       "      <td>13.60</td>\n",
       "      <td>102</td>\n",
       "      <td>9.56</td>\n",
       "      <td>2</td>\n",
       "      <td>1.35</td>\n",
       "      <td>DE</td>\n",
       "      <td>510</td>\n",
       "      <td>1</td>\n",
       "    </tr>\n",
       "    <tr>\n",
       "      <th>5696</th>\n",
       "      <td>131</td>\n",
       "      <td>0</td>\n",
       "      <td>131.6</td>\n",
       "      <td>179.3</td>\n",
       "      <td>251.2</td>\n",
       "      <td>15.5</td>\n",
       "      <td>1</td>\n",
       "      <td>0</td>\n",
       "      <td>0</td>\n",
       "      <td>95</td>\n",
       "      <td>22.37</td>\n",
       "      <td>109</td>\n",
       "      <td>15.24</td>\n",
       "      <td>129</td>\n",
       "      <td>11.30</td>\n",
       "      <td>3</td>\n",
       "      <td>4.19</td>\n",
       "      <td>MS</td>\n",
       "      <td>415</td>\n",
       "      <td>1</td>\n",
       "    </tr>\n",
       "    <tr>\n",
       "      <th>5697</th>\n",
       "      <td>132</td>\n",
       "      <td>0</td>\n",
       "      <td>291.2</td>\n",
       "      <td>234.2</td>\n",
       "      <td>191.7</td>\n",
       "      <td>8.9</td>\n",
       "      <td>1</td>\n",
       "      <td>0</td>\n",
       "      <td>0</td>\n",
       "      <td>104</td>\n",
       "      <td>49.50</td>\n",
       "      <td>132</td>\n",
       "      <td>19.91</td>\n",
       "      <td>87</td>\n",
       "      <td>8.63</td>\n",
       "      <td>3</td>\n",
       "      <td>2.40</td>\n",
       "      <td>MI</td>\n",
       "      <td>408</td>\n",
       "      <td>1</td>\n",
       "    </tr>\n",
       "    <tr>\n",
       "      <th>5698</th>\n",
       "      <td>100</td>\n",
       "      <td>0</td>\n",
       "      <td>113.3</td>\n",
       "      <td>197.9</td>\n",
       "      <td>284.5</td>\n",
       "      <td>11.7</td>\n",
       "      <td>4</td>\n",
       "      <td>0</td>\n",
       "      <td>0</td>\n",
       "      <td>96</td>\n",
       "      <td>19.26</td>\n",
       "      <td>89</td>\n",
       "      <td>16.82</td>\n",
       "      <td>93</td>\n",
       "      <td>12.80</td>\n",
       "      <td>2</td>\n",
       "      <td>3.16</td>\n",
       "      <td>MT</td>\n",
       "      <td>415</td>\n",
       "      <td>1</td>\n",
       "    </tr>\n",
       "    <tr>\n",
       "      <th>5699</th>\n",
       "      <td>147</td>\n",
       "      <td>0</td>\n",
       "      <td>274.0</td>\n",
       "      <td>231.8</td>\n",
       "      <td>283.6</td>\n",
       "      <td>6.2</td>\n",
       "      <td>0</td>\n",
       "      <td>0</td>\n",
       "      <td>0</td>\n",
       "      <td>92</td>\n",
       "      <td>46.58</td>\n",
       "      <td>82</td>\n",
       "      <td>19.70</td>\n",
       "      <td>83</td>\n",
       "      <td>12.76</td>\n",
       "      <td>1</td>\n",
       "      <td>1.67</td>\n",
       "      <td>MD</td>\n",
       "      <td>408</td>\n",
       "      <td>1</td>\n",
       "    </tr>\n",
       "  </tbody>\n",
       "</table>\n",
       "<p>5700 rows × 20 columns</p>\n",
       "</div>"
      ],
      "text/plain": [
       "      Account Length  VMail Message  Day Mins  Eve Mins  Night Mins  \\\n",
       "0                128             25     265.1     197.4       244.7   \n",
       "1                107             26     161.6     195.5       254.4   \n",
       "2                137              0     243.4     121.2       162.6   \n",
       "3                 84              0     299.4      61.9       196.9   \n",
       "4                 75              0     166.7     148.3       186.9   \n",
       "...              ...            ...       ...       ...         ...   \n",
       "5695             224              0     171.5     160.0       212.4   \n",
       "5696             131              0     131.6     179.3       251.2   \n",
       "5697             132              0     291.2     234.2       191.7   \n",
       "5698             100              0     113.3     197.9       284.5   \n",
       "5699             147              0     274.0     231.8       283.6   \n",
       "\n",
       "      Intl Mins  CustServ Calls  Intl Plan  VMail Plan  Day Calls  Day Charge  \\\n",
       "0          10.0               1          0           1        110       45.07   \n",
       "1          13.7               1          0           1        123       27.47   \n",
       "2          12.2               0          0           0        114       41.38   \n",
       "3           6.6               2          1           0         71       50.90   \n",
       "4          10.1               3          1           0        113       28.34   \n",
       "...         ...             ...        ...         ...        ...         ...   \n",
       "5695        5.0               1          1           0         99       29.16   \n",
       "5696       15.5               1          0           0         95       22.37   \n",
       "5697        8.9               1          0           0        104       49.50   \n",
       "5698       11.7               4          0           0         96       19.26   \n",
       "5699        6.2               0          0           0         92       46.58   \n",
       "\n",
       "      Eve Calls  Eve Charge  Night Calls  Night Charge  Intl Calls  \\\n",
       "0            99       16.78           91         11.01           3   \n",
       "1           103       16.62          103         11.45           3   \n",
       "2           110       10.30          104          7.32           5   \n",
       "3            88        5.26           89          8.86           7   \n",
       "4           122       12.61          121          8.41           3   \n",
       "...         ...         ...          ...           ...         ...   \n",
       "5695        103       13.60          102          9.56           2   \n",
       "5696        109       15.24          129         11.30           3   \n",
       "5697        132       19.91           87          8.63           3   \n",
       "5698         89       16.82           93         12.80           2   \n",
       "5699         82       19.70           83         12.76           1   \n",
       "\n",
       "      Intl Charge State  Area Code  Churn  \n",
       "0            2.70    KS        415      0  \n",
       "1            3.70    OH        415      0  \n",
       "2            3.29    NJ        415      0  \n",
       "3            1.78    OH        408      0  \n",
       "4            2.73    OK        415      0  \n",
       "...           ...   ...        ...    ...  \n",
       "5695         1.35    DE        510      1  \n",
       "5696         4.19    MS        415      1  \n",
       "5697         2.40    MI        408      1  \n",
       "5698         3.16    MT        415      1  \n",
       "5699         1.67    MD        408      1  \n",
       "\n",
       "[5700 rows x 20 columns]"
      ]
     },
     "execution_count": 303,
     "metadata": {},
     "output_type": "execute_result"
    }
   ],
   "source": [
    "df"
   ]
  },
  {
   "cell_type": "code",
   "execution_count": 304,
   "id": "4911ca2b",
   "metadata": {},
   "outputs": [
    {
     "data": {
      "image/png": "[encoded data removed]",
      "text/plain": [
       "<Figure size 432x288 with 1 Axes>"
      ]
     },
     "metadata": {
      "needs_background": "light"
     },
     "output_type": "display_data"
    },
    {
     "data": {
      "image/png": "[encoded data removed]",
      "text/plain": [
       "<Figure size 432x288 with 1 Axes>"
      ]
     },
     "metadata": {
      "needs_background": "light"
     },
     "output_type": "display_data"
    },
    {
     "data": {
      "image/png": "[encoded data removed]",
      "text/plain": [
       "<Figure size 432x288 with 1 Axes>"
      ]
     },
     "metadata": {
      "needs_background": "light"
     },
     "output_type": "display_data"
    },
    {
     "data": {
      "image/png": "[encoded data removed]",
      "text/plain": [
       "<Figure size 432x288 with 1 Axes>"
      ]
     },
     "metadata": {
      "needs_background": "light"
     },
     "output_type": "display_data"
    },
    {
     "data": {
      "text/plain": [
       "<AxesSubplot:xlabel='Churn'>"
      ]
     },
     "execution_count": 304,
     "metadata": {},
     "output_type": "execute_result"
    },
    {
     "data": {
      "image/png": "[encoded data removed]",
      "text/plain": [
       "<Figure size 432x288 with 1 Axes>"
      ]
     },
     "metadata": {
      "needs_background": "light"
     },
     "output_type": "display_data"
    }
   ],
   "source": [
    "derived = df['Day Calls'] + df['Eve Calls'] + df['Night Calls'] + df['Intl Calls']\n",
    "sns.boxplot(x = df.Churn, y =  df['Intl Calls'] )\n",
    "plt.show()\n",
    "sns.boxplot(x = df.Churn, y =  df['Eve Calls'] )\n",
    "plt.show()\n",
    "sns.boxplot(x = df.Churn, y =  df['Night Calls'] )\n",
    "plt.show()\n",
    "sns.boxplot(x = df.Churn, y =   df['Intl Calls'] )\n",
    "plt.show()\n",
    "sns.boxplot(x = df.Churn, y =   derived )\n"
   ]
  },
  {
   "cell_type": "code",
   "execution_count": 305,
   "id": "a89923e0",
   "metadata": {},
   "outputs": [
    {
     "data": {
      "text/plain": [
       "<AxesSubplot:xlabel='Churn', ylabel='total_mins'>"
      ]
     },
     "execution_count": 305,
     "metadata": {},
     "output_type": "execute_result"
    },
    {
     "data": {
      "image/png": "[encoded data removed]",
      "text/plain": [
       "<Figure size 432x288 with 1 Axes>"
      ]
     },
     "metadata": {
      "needs_background": "light"
     },
     "output_type": "display_data"
    }
   ],
   "source": [
    "df['total_mins'] = df['Day Mins'] + df['Eve Mins'] + df['Night Mins'] + df['Intl Mins']\n",
    "sns.boxplot(x=df.Churn, y=df.total_mins)"
   ]
  },
  {
   "cell_type": "markdown",
   "id": "9fcba252",
   "metadata": {},
   "source": [
    "##### significant feature"
   ]
  },
  {
   "cell_type": "markdown",
   "id": "615a68ac",
   "metadata": {},
   "source": [
    "##### removing some of the unnecessary columns based off above observations"
   ]
  },
  {
   "cell_type": "code",
   "execution_count": 306,
   "id": "178201fa",
   "metadata": {},
   "outputs": [
    {
     "data": {
      "text/plain": [
       "Index(['Account Length', 'VMail Message', 'Day Mins', 'Eve Mins', 'Night Mins',\n",
       "       'Intl Mins', 'CustServ Calls', 'Intl Plan', 'VMail Plan', 'Day Calls',\n",
       "       'Day Charge', 'Eve Calls', 'Eve Charge', 'Night Calls', 'Night Charge',\n",
       "       'Intl Calls', 'Intl Charge', 'State', 'Area Code', 'Churn',\n",
       "       'total_mins'],\n",
       "      dtype='object')"
      ]
     },
     "execution_count": 306,
     "metadata": {},
     "output_type": "execute_result"
    }
   ],
   "source": [
    "df.columns"
   ]
  },
  {
   "cell_type": "code",
   "execution_count": 307,
   "id": "2da98474",
   "metadata": {},
   "outputs": [
    {
     "data": {
      "text/html": [
       "<div>\n",
       "<style scoped>\n",
       "    .dataframe tbody tr th:only-of-type {\n",
       "        vertical-align: middle;\n",
       "    }\n",
       "\n",
       "    .dataframe tbody tr th {\n",
       "        vertical-align: top;\n",
       "    }\n",
       "\n",
       "    .dataframe thead th {\n",
       "        text-align: right;\n",
       "    }\n",
       "</style>\n",
       "<table border=\"1\" class=\"dataframe\">\n",
       "  <thead>\n",
       "    <tr style=\"text-align: right;\">\n",
       "      <th></th>\n",
       "      <th>Account Length</th>\n",
       "      <th>VMail Message</th>\n",
       "      <th>CustServ Calls</th>\n",
       "      <th>Intl Plan</th>\n",
       "      <th>VMail Plan</th>\n",
       "      <th>Intl Calls</th>\n",
       "      <th>State</th>\n",
       "      <th>Area Code</th>\n",
       "      <th>Churn</th>\n",
       "      <th>total_mins</th>\n",
       "    </tr>\n",
       "  </thead>\n",
       "  <tbody>\n",
       "    <tr>\n",
       "      <th>0</th>\n",
       "      <td>128</td>\n",
       "      <td>25</td>\n",
       "      <td>1</td>\n",
       "      <td>0</td>\n",
       "      <td>1</td>\n",
       "      <td>3</td>\n",
       "      <td>KS</td>\n",
       "      <td>415</td>\n",
       "      <td>0</td>\n",
       "      <td>717.2</td>\n",
       "    </tr>\n",
       "    <tr>\n",
       "      <th>1</th>\n",
       "      <td>107</td>\n",
       "      <td>26</td>\n",
       "      <td>1</td>\n",
       "      <td>0</td>\n",
       "      <td>1</td>\n",
       "      <td>3</td>\n",
       "      <td>OH</td>\n",
       "      <td>415</td>\n",
       "      <td>0</td>\n",
       "      <td>625.2</td>\n",
       "    </tr>\n",
       "    <tr>\n",
       "      <th>2</th>\n",
       "      <td>137</td>\n",
       "      <td>0</td>\n",
       "      <td>0</td>\n",
       "      <td>0</td>\n",
       "      <td>0</td>\n",
       "      <td>5</td>\n",
       "      <td>NJ</td>\n",
       "      <td>415</td>\n",
       "      <td>0</td>\n",
       "      <td>539.4</td>\n",
       "    </tr>\n",
       "    <tr>\n",
       "      <th>3</th>\n",
       "      <td>84</td>\n",
       "      <td>0</td>\n",
       "      <td>2</td>\n",
       "      <td>1</td>\n",
       "      <td>0</td>\n",
       "      <td>7</td>\n",
       "      <td>OH</td>\n",
       "      <td>408</td>\n",
       "      <td>0</td>\n",
       "      <td>564.8</td>\n",
       "    </tr>\n",
       "    <tr>\n",
       "      <th>4</th>\n",
       "      <td>75</td>\n",
       "      <td>0</td>\n",
       "      <td>3</td>\n",
       "      <td>1</td>\n",
       "      <td>0</td>\n",
       "      <td>3</td>\n",
       "      <td>OK</td>\n",
       "      <td>415</td>\n",
       "      <td>0</td>\n",
       "      <td>512.0</td>\n",
       "    </tr>\n",
       "  </tbody>\n",
       "</table>\n",
       "</div>"
      ],
      "text/plain": [
       "   Account Length  VMail Message  CustServ Calls  Intl Plan  VMail Plan  \\\n",
       "0             128             25               1          0           1   \n",
       "1             107             26               1          0           1   \n",
       "2             137              0               0          0           0   \n",
       "3              84              0               2          1           0   \n",
       "4              75              0               3          1           0   \n",
       "\n",
       "   Intl Calls State  Area Code  Churn  total_mins  \n",
       "0           3    KS        415      0       717.2  \n",
       "1           3    OH        415      0       625.2  \n",
       "2           5    NJ        415      0       539.4  \n",
       "3           7    OH        408      0       564.8  \n",
       "4           3    OK        415      0       512.0  "
      ]
     },
     "execution_count": 307,
     "metadata": {},
     "output_type": "execute_result"
    }
   ],
   "source": [
    "df.drop(['Day Mins', 'Eve Mins', 'Night Mins',\n",
    "'Intl Mins','Day Calls',\n",
    "       'Day Charge', 'Eve Calls', 'Eve Charge', 'Night Calls', 'Night Charge', 'Intl Charge'], axis = 1, inplace = True)\n",
    "df.head()"
   ]
  },
  {
   "cell_type": "markdown",
   "id": "fc01f5ae",
   "metadata": {},
   "source": [
    "##### looking for anymore feature having no impact of churning of the customer"
   ]
  },
  {
   "cell_type": "code",
   "execution_count": 308,
   "id": "7d52d1e4",
   "metadata": {},
   "outputs": [
    {
     "data": {
      "image/png": "[encoded data removed]",
      "text/plain": [
       "<Figure size 432x288 with 1 Axes>"
      ]
     },
     "metadata": {
      "needs_background": "light"
     },
     "output_type": "display_data"
    }
   ],
   "source": [
    "sns.kdeplot(df['Account Length'], hue = df.Churn )\n",
    "plt.grid()"
   ]
  },
  {
   "cell_type": "markdown",
   "id": "df368177",
   "metadata": {},
   "source": [
    "##### obs: account length has no significant impact on the curning of the customer "
   ]
  },
  {
   "cell_type": "code",
   "execution_count": 309,
   "id": "c8d70e71",
   "metadata": {},
   "outputs": [
    {
     "data": {
      "text/html": [
       "<div>\n",
       "<style scoped>\n",
       "    .dataframe tbody tr th:only-of-type {\n",
       "        vertical-align: middle;\n",
       "    }\n",
       "\n",
       "    .dataframe tbody tr th {\n",
       "        vertical-align: top;\n",
       "    }\n",
       "\n",
       "    .dataframe thead th {\n",
       "        text-align: right;\n",
       "    }\n",
       "</style>\n",
       "<table border=\"1\" class=\"dataframe\">\n",
       "  <thead>\n",
       "    <tr style=\"text-align: right;\">\n",
       "      <th></th>\n",
       "      <th>VMail Message</th>\n",
       "      <th>CustServ Calls</th>\n",
       "      <th>Intl Plan</th>\n",
       "      <th>VMail Plan</th>\n",
       "      <th>Intl Calls</th>\n",
       "      <th>State</th>\n",
       "      <th>Area Code</th>\n",
       "      <th>Churn</th>\n",
       "      <th>total_mins</th>\n",
       "    </tr>\n",
       "  </thead>\n",
       "  <tbody>\n",
       "    <tr>\n",
       "      <th>0</th>\n",
       "      <td>25</td>\n",
       "      <td>1</td>\n",
       "      <td>0</td>\n",
       "      <td>1</td>\n",
       "      <td>3</td>\n",
       "      <td>KS</td>\n",
       "      <td>415</td>\n",
       "      <td>0</td>\n",
       "      <td>717.2</td>\n",
       "    </tr>\n",
       "    <tr>\n",
       "      <th>1</th>\n",
       "      <td>26</td>\n",
       "      <td>1</td>\n",
       "      <td>0</td>\n",
       "      <td>1</td>\n",
       "      <td>3</td>\n",
       "      <td>OH</td>\n",
       "      <td>415</td>\n",
       "      <td>0</td>\n",
       "      <td>625.2</td>\n",
       "    </tr>\n",
       "    <tr>\n",
       "      <th>2</th>\n",
       "      <td>0</td>\n",
       "      <td>0</td>\n",
       "      <td>0</td>\n",
       "      <td>0</td>\n",
       "      <td>5</td>\n",
       "      <td>NJ</td>\n",
       "      <td>415</td>\n",
       "      <td>0</td>\n",
       "      <td>539.4</td>\n",
       "    </tr>\n",
       "    <tr>\n",
       "      <th>3</th>\n",
       "      <td>0</td>\n",
       "      <td>2</td>\n",
       "      <td>1</td>\n",
       "      <td>0</td>\n",
       "      <td>7</td>\n",
       "      <td>OH</td>\n",
       "      <td>408</td>\n",
       "      <td>0</td>\n",
       "      <td>564.8</td>\n",
       "    </tr>\n",
       "    <tr>\n",
       "      <th>4</th>\n",
       "      <td>0</td>\n",
       "      <td>3</td>\n",
       "      <td>1</td>\n",
       "      <td>0</td>\n",
       "      <td>3</td>\n",
       "      <td>OK</td>\n",
       "      <td>415</td>\n",
       "      <td>0</td>\n",
       "      <td>512.0</td>\n",
       "    </tr>\n",
       "  </tbody>\n",
       "</table>\n",
       "</div>"
      ],
      "text/plain": [
       "   VMail Message  CustServ Calls  Intl Plan  VMail Plan  Intl Calls State  \\\n",
       "0             25               1          0           1           3    KS   \n",
       "1             26               1          0           1           3    OH   \n",
       "2              0               0          0           0           5    NJ   \n",
       "3              0               2          1           0           7    OH   \n",
       "4              0               3          1           0           3    OK   \n",
       "\n",
       "   Area Code  Churn  total_mins  \n",
       "0        415      0       717.2  \n",
       "1        415      0       625.2  \n",
       "2        415      0       539.4  \n",
       "3        408      0       564.8  \n",
       "4        415      0       512.0  "
      ]
     },
     "execution_count": 309,
     "metadata": {},
     "output_type": "execute_result"
    }
   ],
   "source": [
    "df.drop(columns=['Account Length'], inplace = True)\n",
    "df.head()"
   ]
  },
  {
   "cell_type": "code",
   "execution_count": 310,
   "id": "413ee744",
   "metadata": {},
   "outputs": [
    {
     "data": {
      "text/plain": [
       "array(['KS', 'OH', 'NJ', 'OK', 'AL', 'MA', 'MO', 'LA', 'WV', 'IN', 'RI',\n",
       "       'IA', 'MT', 'NY', 'ID', 'VT', 'VA', 'TX', 'FL', 'CO', 'AZ', 'SC',\n",
       "       'NE', 'WY', 'HI', 'IL', 'NH', 'GA', 'AK', 'MD', 'AR', 'WI', 'OR',\n",
       "       'MI', 'DE', 'UT', 'CA', 'MN', 'SD', 'NC', 'WA', 'NM', 'NV', 'DC',\n",
       "       'KY', 'ME', 'MS', 'TN', 'PA', 'CT', 'ND'], dtype=object)"
      ]
     },
     "execution_count": 310,
     "metadata": {},
     "output_type": "execute_result"
    }
   ],
   "source": [
    "df['State'].unique()"
   ]
  },
  {
   "cell_type": "code",
   "execution_count": 311,
   "id": "570a26df",
   "metadata": {},
   "outputs": [
    {
     "data": {
      "text/plain": [
       "<AxesSubplot:xlabel='State', ylabel='count'>"
      ]
     },
     "execution_count": 311,
     "metadata": {},
     "output_type": "execute_result"
    },
    {
     "data": {
      "image/png": "[encoded data removed]",
      "text/plain": [
       "<Figure size 1440x432 with 1 Axes>"
      ]
     },
     "metadata": {
      "needs_background": "light"
     },
     "output_type": "display_data"
    }
   ],
   "source": [
    "plt.figure(figsize=(20,6))\n",
    "sns.countplot(df.State, hue = df.Churn)"
   ]
  },
  {
   "cell_type": "markdown",
   "id": "34bebe67",
   "metadata": {},
   "source": [
    "##### we need to do target mean encoding for the state feature"
   ]
  },
  {
   "cell_type": "code",
   "execution_count": 312,
   "id": "24843a37",
   "metadata": {},
   "outputs": [
    {
     "data": {
      "text/html": [
       "<div>\n",
       "<style scoped>\n",
       "    .dataframe tbody tr th:only-of-type {\n",
       "        vertical-align: middle;\n",
       "    }\n",
       "\n",
       "    .dataframe tbody tr th {\n",
       "        vertical-align: top;\n",
       "    }\n",
       "\n",
       "    .dataframe thead th {\n",
       "        text-align: right;\n",
       "    }\n",
       "</style>\n",
       "<table border=\"1\" class=\"dataframe\">\n",
       "  <thead>\n",
       "    <tr style=\"text-align: right;\">\n",
       "      <th></th>\n",
       "      <th>VMail Message</th>\n",
       "      <th>CustServ Calls</th>\n",
       "      <th>Intl Plan</th>\n",
       "      <th>VMail Plan</th>\n",
       "      <th>Intl Calls</th>\n",
       "      <th>State</th>\n",
       "      <th>Area Code</th>\n",
       "      <th>Churn</th>\n",
       "      <th>total_mins</th>\n",
       "    </tr>\n",
       "  </thead>\n",
       "  <tbody>\n",
       "    <tr>\n",
       "      <th>0</th>\n",
       "      <td>25</td>\n",
       "      <td>1</td>\n",
       "      <td>0</td>\n",
       "      <td>1</td>\n",
       "      <td>3</td>\n",
       "      <td>KS</td>\n",
       "      <td>415</td>\n",
       "      <td>0</td>\n",
       "      <td>717.2</td>\n",
       "    </tr>\n",
       "    <tr>\n",
       "      <th>1</th>\n",
       "      <td>26</td>\n",
       "      <td>1</td>\n",
       "      <td>0</td>\n",
       "      <td>1</td>\n",
       "      <td>3</td>\n",
       "      <td>OH</td>\n",
       "      <td>415</td>\n",
       "      <td>0</td>\n",
       "      <td>625.2</td>\n",
       "    </tr>\n",
       "    <tr>\n",
       "      <th>2</th>\n",
       "      <td>0</td>\n",
       "      <td>0</td>\n",
       "      <td>0</td>\n",
       "      <td>0</td>\n",
       "      <td>5</td>\n",
       "      <td>NJ</td>\n",
       "      <td>415</td>\n",
       "      <td>0</td>\n",
       "      <td>539.4</td>\n",
       "    </tr>\n",
       "    <tr>\n",
       "      <th>3</th>\n",
       "      <td>0</td>\n",
       "      <td>2</td>\n",
       "      <td>1</td>\n",
       "      <td>0</td>\n",
       "      <td>7</td>\n",
       "      <td>OH</td>\n",
       "      <td>408</td>\n",
       "      <td>0</td>\n",
       "      <td>564.8</td>\n",
       "    </tr>\n",
       "    <tr>\n",
       "      <th>4</th>\n",
       "      <td>0</td>\n",
       "      <td>3</td>\n",
       "      <td>1</td>\n",
       "      <td>0</td>\n",
       "      <td>3</td>\n",
       "      <td>OK</td>\n",
       "      <td>415</td>\n",
       "      <td>0</td>\n",
       "      <td>512.0</td>\n",
       "    </tr>\n",
       "  </tbody>\n",
       "</table>\n",
       "</div>"
      ],
      "text/plain": [
       "   VMail Message  CustServ Calls  Intl Plan  VMail Plan  Intl Calls State  \\\n",
       "0             25               1          0           1           3    KS   \n",
       "1             26               1          0           1           3    OH   \n",
       "2              0               0          0           0           5    NJ   \n",
       "3              0               2          1           0           7    OH   \n",
       "4              0               3          1           0           3    OK   \n",
       "\n",
       "   Area Code  Churn  total_mins  \n",
       "0        415      0       717.2  \n",
       "1        415      0       625.2  \n",
       "2        415      0       539.4  \n",
       "3        408      0       564.8  \n",
       "4        415      0       512.0  "
      ]
     },
     "execution_count": 312,
     "metadata": {},
     "output_type": "execute_result"
    }
   ],
   "source": [
    "df.head()"
   ]
  },
  {
   "cell_type": "code",
   "execution_count": 313,
   "id": "f4fe2b63",
   "metadata": {},
   "outputs": [
    {
     "data": {
      "text/plain": [
       "<AxesSubplot:xlabel='Area Code', ylabel='count'>"
      ]
     },
     "execution_count": 313,
     "metadata": {},
     "output_type": "execute_result"
    },
    {
     "data": {
      "image/png": "[encoded data removed]",
      "text/plain": [
       "<Figure size 432x288 with 1 Axes>"
      ]
     },
     "metadata": {
      "needs_background": "light"
     },
     "output_type": "display_data"
    }
   ],
   "source": [
    "sns.countplot(df['Area Code'], hue = df.Churn)"
   ]
  },
  {
   "cell_type": "markdown",
   "id": "016955b2",
   "metadata": {},
   "source": [
    "##### no significant effect of area code on churing of the customer"
   ]
  },
  {
   "cell_type": "markdown",
   "id": "952473f4",
   "metadata": {},
   "source": [
    "to perform EDA and check for multicoliniarity, outliers, encodings and starnge behaviour in the data"
   ]
  },
  {
   "cell_type": "code",
   "execution_count": 314,
   "id": "006cd872",
   "metadata": {},
   "outputs": [],
   "source": [
    "df.drop(columns=['Area Code'], inplace=True)"
   ]
  },
  {
   "cell_type": "code",
   "execution_count": 316,
   "id": "62ec7737",
   "metadata": {},
   "outputs": [
    {
     "data": {
      "text/html": [
       "<div>\n",
       "<style scoped>\n",
       "    .dataframe tbody tr th:only-of-type {\n",
       "        vertical-align: middle;\n",
       "    }\n",
       "\n",
       "    .dataframe tbody tr th {\n",
       "        vertical-align: top;\n",
       "    }\n",
       "\n",
       "    .dataframe thead th {\n",
       "        text-align: right;\n",
       "    }\n",
       "</style>\n",
       "<table border=\"1\" class=\"dataframe\">\n",
       "  <thead>\n",
       "    <tr style=\"text-align: right;\">\n",
       "      <th></th>\n",
       "      <th>VMail Message</th>\n",
       "      <th>CustServ Calls</th>\n",
       "      <th>Intl Plan</th>\n",
       "      <th>VMail Plan</th>\n",
       "      <th>Intl Calls</th>\n",
       "      <th>State</th>\n",
       "      <th>Churn</th>\n",
       "      <th>total_mins</th>\n",
       "    </tr>\n",
       "  </thead>\n",
       "  <tbody>\n",
       "    <tr>\n",
       "      <th>0</th>\n",
       "      <td>25</td>\n",
       "      <td>1</td>\n",
       "      <td>0</td>\n",
       "      <td>1</td>\n",
       "      <td>3</td>\n",
       "      <td>KS</td>\n",
       "      <td>0</td>\n",
       "      <td>717.2</td>\n",
       "    </tr>\n",
       "    <tr>\n",
       "      <th>1</th>\n",
       "      <td>26</td>\n",
       "      <td>1</td>\n",
       "      <td>0</td>\n",
       "      <td>1</td>\n",
       "      <td>3</td>\n",
       "      <td>OH</td>\n",
       "      <td>0</td>\n",
       "      <td>625.2</td>\n",
       "    </tr>\n",
       "    <tr>\n",
       "      <th>2</th>\n",
       "      <td>0</td>\n",
       "      <td>0</td>\n",
       "      <td>0</td>\n",
       "      <td>0</td>\n",
       "      <td>5</td>\n",
       "      <td>NJ</td>\n",
       "      <td>0</td>\n",
       "      <td>539.4</td>\n",
       "    </tr>\n",
       "    <tr>\n",
       "      <th>3</th>\n",
       "      <td>0</td>\n",
       "      <td>2</td>\n",
       "      <td>1</td>\n",
       "      <td>0</td>\n",
       "      <td>7</td>\n",
       "      <td>OH</td>\n",
       "      <td>0</td>\n",
       "      <td>564.8</td>\n",
       "    </tr>\n",
       "    <tr>\n",
       "      <th>4</th>\n",
       "      <td>0</td>\n",
       "      <td>3</td>\n",
       "      <td>1</td>\n",
       "      <td>0</td>\n",
       "      <td>3</td>\n",
       "      <td>OK</td>\n",
       "      <td>0</td>\n",
       "      <td>512.0</td>\n",
       "    </tr>\n",
       "  </tbody>\n",
       "</table>\n",
       "</div>"
      ],
      "text/plain": [
       "   VMail Message  CustServ Calls  Intl Plan  VMail Plan  Intl Calls State  \\\n",
       "0             25               1          0           1           3    KS   \n",
       "1             26               1          0           1           3    OH   \n",
       "2              0               0          0           0           5    NJ   \n",
       "3              0               2          1           0           7    OH   \n",
       "4              0               3          1           0           3    OK   \n",
       "\n",
       "   Churn  total_mins  \n",
       "0      0       717.2  \n",
       "1      0       625.2  \n",
       "2      0       539.4  \n",
       "3      0       564.8  \n",
       "4      0       512.0  "
      ]
     },
     "execution_count": 316,
     "metadata": {},
     "output_type": "execute_result"
    }
   ],
   "source": [
    "df.head()"
   ]
  },
  {
   "cell_type": "code",
   "execution_count": 319,
   "id": "9b60eebb",
   "metadata": {},
   "outputs": [
    {
     "data": {
      "text/plain": [
       "<AxesSubplot:xlabel='CustServ Calls', ylabel='Density'>"
      ]
     },
     "execution_count": 319,
     "metadata": {},
     "output_type": "execute_result"
    },
    {
     "data": {
      "image/png": "[encoded data removed]",
      "text/plain": [
       "<Figure size 432x288 with 1 Axes>"
      ]
     },
     "metadata": {
      "needs_background": "light"
     },
     "output_type": "display_data"
    }
   ],
   "source": [
    "sns.kdeplot(df['CustServ Calls'], hue = df.Churn)"
   ]
  },
  {
   "cell_type": "code",
   "execution_count": 320,
   "id": "b79e50b4",
   "metadata": {},
   "outputs": [
    {
     "data": {
      "text/plain": [
       "<AxesSubplot:xlabel='Intl Calls', ylabel='Density'>"
      ]
     },
     "execution_count": 320,
     "metadata": {},
     "output_type": "execute_result"
    },
    {
     "data": {
      "image/png": "[encoded data removed]",
      "text/plain": [
       "<Figure size 432x288 with 1 Axes>"
      ]
     },
     "metadata": {
      "needs_background": "light"
     },
     "output_type": "display_data"
    }
   ],
   "source": [
    "sns.kdeplot(df['Intl Calls'], hue = df.Churn)"
   ]
  },
  {
   "cell_type": "markdown",
   "id": "1fe82e2c",
   "metadata": {},
   "source": [
    "##### let's perform the target mean endcoding on the state feature"
   ]
  },
  {
   "cell_type": "code",
   "execution_count": 321,
   "id": "45f2c1b8",
   "metadata": {},
   "outputs": [
    {
     "data": {
      "text/html": [
       "<div>\n",
       "<style scoped>\n",
       "    .dataframe tbody tr th:only-of-type {\n",
       "        vertical-align: middle;\n",
       "    }\n",
       "\n",
       "    .dataframe tbody tr th {\n",
       "        vertical-align: top;\n",
       "    }\n",
       "\n",
       "    .dataframe thead th {\n",
       "        text-align: right;\n",
       "    }\n",
       "</style>\n",
       "<table border=\"1\" class=\"dataframe\">\n",
       "  <thead>\n",
       "    <tr style=\"text-align: right;\">\n",
       "      <th></th>\n",
       "      <th>VMail Message</th>\n",
       "      <th>CustServ Calls</th>\n",
       "      <th>Intl Plan</th>\n",
       "      <th>VMail Plan</th>\n",
       "      <th>Intl Calls</th>\n",
       "      <th>State</th>\n",
       "      <th>Churn</th>\n",
       "      <th>total_mins</th>\n",
       "    </tr>\n",
       "  </thead>\n",
       "  <tbody>\n",
       "    <tr>\n",
       "      <th>0</th>\n",
       "      <td>25</td>\n",
       "      <td>1</td>\n",
       "      <td>0</td>\n",
       "      <td>1</td>\n",
       "      <td>3</td>\n",
       "      <td>KS</td>\n",
       "      <td>0</td>\n",
       "      <td>717.2</td>\n",
       "    </tr>\n",
       "    <tr>\n",
       "      <th>1</th>\n",
       "      <td>26</td>\n",
       "      <td>1</td>\n",
       "      <td>0</td>\n",
       "      <td>1</td>\n",
       "      <td>3</td>\n",
       "      <td>OH</td>\n",
       "      <td>0</td>\n",
       "      <td>625.2</td>\n",
       "    </tr>\n",
       "    <tr>\n",
       "      <th>2</th>\n",
       "      <td>0</td>\n",
       "      <td>0</td>\n",
       "      <td>0</td>\n",
       "      <td>0</td>\n",
       "      <td>5</td>\n",
       "      <td>NJ</td>\n",
       "      <td>0</td>\n",
       "      <td>539.4</td>\n",
       "    </tr>\n",
       "    <tr>\n",
       "      <th>3</th>\n",
       "      <td>0</td>\n",
       "      <td>2</td>\n",
       "      <td>1</td>\n",
       "      <td>0</td>\n",
       "      <td>7</td>\n",
       "      <td>OH</td>\n",
       "      <td>0</td>\n",
       "      <td>564.8</td>\n",
       "    </tr>\n",
       "    <tr>\n",
       "      <th>4</th>\n",
       "      <td>0</td>\n",
       "      <td>3</td>\n",
       "      <td>1</td>\n",
       "      <td>0</td>\n",
       "      <td>3</td>\n",
       "      <td>OK</td>\n",
       "      <td>0</td>\n",
       "      <td>512.0</td>\n",
       "    </tr>\n",
       "  </tbody>\n",
       "</table>\n",
       "</div>"
      ],
      "text/plain": [
       "   VMail Message  CustServ Calls  Intl Plan  VMail Plan  Intl Calls State  \\\n",
       "0             25               1          0           1           3    KS   \n",
       "1             26               1          0           1           3    OH   \n",
       "2              0               0          0           0           5    NJ   \n",
       "3              0               2          1           0           7    OH   \n",
       "4              0               3          1           0           3    OK   \n",
       "\n",
       "   Churn  total_mins  \n",
       "0      0       717.2  \n",
       "1      0       625.2  \n",
       "2      0       539.4  \n",
       "3      0       564.8  \n",
       "4      0       512.0  "
      ]
     },
     "execution_count": 321,
     "metadata": {},
     "output_type": "execute_result"
    }
   ],
   "source": [
    "df.head()"
   ]
  },
  {
   "cell_type": "code",
   "execution_count": null,
   "id": "0a3e560a",
   "metadata": {},
   "outputs": [],
   "source": [
    "dct = {}\n",
    "for i in df['State'].unique():\n",
    "    dct[i] = len(df[df.State == i].Churn == 1)\n",
    "dct"
   ]
  },
  {
   "cell_type": "markdown",
   "id": "ed26f9ff",
   "metadata": {},
   "source": [
    "##### replacing the value"
   ]
  },
  {
   "cell_type": "code",
   "execution_count": null,
   "id": "c0407e54",
   "metadata": {},
   "outputs": [],
   "source": [
    "new = []\n",
    "for i in df.State:\n",
    "    new.append(dct[i])\n",
    "new"
   ]
  },
  {
   "cell_type": "code",
   "execution_count": 360,
   "id": "2aaed6c0",
   "metadata": {},
   "outputs": [
    {
     "name": "stdout",
     "output_type": "stream",
     "text": [
      "51\n",
      "5700\n"
     ]
    }
   ],
   "source": [
    "print(len(dct))\n",
    "print(len(new))"
   ]
  },
  {
   "cell_type": "code",
   "execution_count": 370,
   "id": "4db18342",
   "metadata": {},
   "outputs": [
    {
     "data": {
      "text/html": [
       "<div>\n",
       "<style scoped>\n",
       "    .dataframe tbody tr th:only-of-type {\n",
       "        vertical-align: middle;\n",
       "    }\n",
       "\n",
       "    .dataframe tbody tr th {\n",
       "        vertical-align: top;\n",
       "    }\n",
       "\n",
       "    .dataframe thead th {\n",
       "        text-align: right;\n",
       "    }\n",
       "</style>\n",
       "<table border=\"1\" class=\"dataframe\">\n",
       "  <thead>\n",
       "    <tr style=\"text-align: right;\">\n",
       "      <th></th>\n",
       "      <th>0</th>\n",
       "      <th>State_enc</th>\n",
       "    </tr>\n",
       "  </thead>\n",
       "  <tbody>\n",
       "    <tr>\n",
       "      <th>0</th>\n",
       "      <td>143</td>\n",
       "      <td>143</td>\n",
       "    </tr>\n",
       "    <tr>\n",
       "      <th>1</th>\n",
       "      <td>128</td>\n",
       "      <td>128</td>\n",
       "    </tr>\n",
       "    <tr>\n",
       "      <th>2</th>\n",
       "      <td>155</td>\n",
       "      <td>155</td>\n",
       "    </tr>\n",
       "    <tr>\n",
       "      <th>3</th>\n",
       "      <td>128</td>\n",
       "      <td>128</td>\n",
       "    </tr>\n",
       "    <tr>\n",
       "      <th>4</th>\n",
       "      <td>107</td>\n",
       "      <td>107</td>\n",
       "    </tr>\n",
       "  </tbody>\n",
       "</table>\n",
       "</div>"
      ],
      "text/plain": [
       "     0  State_enc\n",
       "0  143        143\n",
       "1  128        128\n",
       "2  155        155\n",
       "3  128        128\n",
       "4  107        107"
      ]
     },
     "execution_count": 370,
     "metadata": {},
     "output_type": "execute_result"
    }
   ],
   "source": [
    "new.head()"
   ]
  },
  {
   "cell_type": "code",
   "execution_count": 371,
   "id": "501ad3e2",
   "metadata": {},
   "outputs": [
    {
     "data": {
      "text/plain": [
       "Index(['VMail Message', 'CustServ Calls', 'Intl Plan', 'VMail Plan',\n",
       "       'Intl Calls', 'State', 'Churn', 'total_mins', 'State_enc'],\n",
       "      dtype='object')"
      ]
     },
     "execution_count": 371,
     "metadata": {},
     "output_type": "execute_result"
    }
   ],
   "source": [
    "df['State_enc'] = new['State_enc']\n",
    "df.columns"
   ]
  },
  {
   "cell_type": "code",
   "execution_count": 373,
   "id": "133afc27",
   "metadata": {},
   "outputs": [
    {
     "data": {
      "text/html": [
       "<div>\n",
       "<style scoped>\n",
       "    .dataframe tbody tr th:only-of-type {\n",
       "        vertical-align: middle;\n",
       "    }\n",
       "\n",
       "    .dataframe tbody tr th {\n",
       "        vertical-align: top;\n",
       "    }\n",
       "\n",
       "    .dataframe thead th {\n",
       "        text-align: right;\n",
       "    }\n",
       "</style>\n",
       "<table border=\"1\" class=\"dataframe\">\n",
       "  <thead>\n",
       "    <tr style=\"text-align: right;\">\n",
       "      <th></th>\n",
       "      <th>VMail Message</th>\n",
       "      <th>CustServ Calls</th>\n",
       "      <th>Intl Plan</th>\n",
       "      <th>VMail Plan</th>\n",
       "      <th>Intl Calls</th>\n",
       "      <th>State</th>\n",
       "      <th>Churn</th>\n",
       "      <th>total_mins</th>\n",
       "      <th>State_enc</th>\n",
       "    </tr>\n",
       "  </thead>\n",
       "  <tbody>\n",
       "    <tr>\n",
       "      <th>0</th>\n",
       "      <td>25</td>\n",
       "      <td>1</td>\n",
       "      <td>0</td>\n",
       "      <td>1</td>\n",
       "      <td>3</td>\n",
       "      <td>KS</td>\n",
       "      <td>0</td>\n",
       "      <td>717.2</td>\n",
       "      <td>143</td>\n",
       "    </tr>\n",
       "    <tr>\n",
       "      <th>1</th>\n",
       "      <td>26</td>\n",
       "      <td>1</td>\n",
       "      <td>0</td>\n",
       "      <td>1</td>\n",
       "      <td>3</td>\n",
       "      <td>OH</td>\n",
       "      <td>0</td>\n",
       "      <td>625.2</td>\n",
       "      <td>128</td>\n",
       "    </tr>\n",
       "    <tr>\n",
       "      <th>2</th>\n",
       "      <td>0</td>\n",
       "      <td>0</td>\n",
       "      <td>0</td>\n",
       "      <td>0</td>\n",
       "      <td>5</td>\n",
       "      <td>NJ</td>\n",
       "      <td>0</td>\n",
       "      <td>539.4</td>\n",
       "      <td>155</td>\n",
       "    </tr>\n",
       "    <tr>\n",
       "      <th>3</th>\n",
       "      <td>0</td>\n",
       "      <td>2</td>\n",
       "      <td>1</td>\n",
       "      <td>0</td>\n",
       "      <td>7</td>\n",
       "      <td>OH</td>\n",
       "      <td>0</td>\n",
       "      <td>564.8</td>\n",
       "      <td>128</td>\n",
       "    </tr>\n",
       "    <tr>\n",
       "      <th>4</th>\n",
       "      <td>0</td>\n",
       "      <td>3</td>\n",
       "      <td>1</td>\n",
       "      <td>0</td>\n",
       "      <td>3</td>\n",
       "      <td>OK</td>\n",
       "      <td>0</td>\n",
       "      <td>512.0</td>\n",
       "      <td>107</td>\n",
       "    </tr>\n",
       "  </tbody>\n",
       "</table>\n",
       "</div>"
      ],
      "text/plain": [
       "   VMail Message  CustServ Calls  Intl Plan  VMail Plan  Intl Calls State  \\\n",
       "0             25               1          0           1           3    KS   \n",
       "1             26               1          0           1           3    OH   \n",
       "2              0               0          0           0           5    NJ   \n",
       "3              0               2          1           0           7    OH   \n",
       "4              0               3          1           0           3    OK   \n",
       "\n",
       "   Churn  total_mins  State_enc  \n",
       "0      0       717.2        143  \n",
       "1      0       625.2        128  \n",
       "2      0       539.4        155  \n",
       "3      0       564.8        128  \n",
       "4      0       512.0        107  "
      ]
     },
     "execution_count": 373,
     "metadata": {},
     "output_type": "execute_result"
    }
   ],
   "source": [
    "df.head()"
   ]
  },
  {
   "cell_type": "code",
   "execution_count": 377,
   "id": "dbe0bf40",
   "metadata": {},
   "outputs": [
    {
     "data": {
      "text/html": [
       "<div>\n",
       "<style scoped>\n",
       "    .dataframe tbody tr th:only-of-type {\n",
       "        vertical-align: middle;\n",
       "    }\n",
       "\n",
       "    .dataframe tbody tr th {\n",
       "        vertical-align: top;\n",
       "    }\n",
       "\n",
       "    .dataframe thead th {\n",
       "        text-align: right;\n",
       "    }\n",
       "</style>\n",
       "<table border=\"1\" class=\"dataframe\">\n",
       "  <thead>\n",
       "    <tr style=\"text-align: right;\">\n",
       "      <th></th>\n",
       "      <th>VMail Message</th>\n",
       "      <th>CustServ Calls</th>\n",
       "      <th>Intl Plan</th>\n",
       "      <th>VMail Plan</th>\n",
       "      <th>Intl Calls</th>\n",
       "      <th>Churn</th>\n",
       "      <th>total_mins</th>\n",
       "      <th>State_enc</th>\n",
       "    </tr>\n",
       "  </thead>\n",
       "  <tbody>\n",
       "    <tr>\n",
       "      <th>0</th>\n",
       "      <td>25</td>\n",
       "      <td>1</td>\n",
       "      <td>0</td>\n",
       "      <td>1</td>\n",
       "      <td>3</td>\n",
       "      <td>0</td>\n",
       "      <td>717.2</td>\n",
       "      <td>143</td>\n",
       "    </tr>\n",
       "    <tr>\n",
       "      <th>1</th>\n",
       "      <td>26</td>\n",
       "      <td>1</td>\n",
       "      <td>0</td>\n",
       "      <td>1</td>\n",
       "      <td>3</td>\n",
       "      <td>0</td>\n",
       "      <td>625.2</td>\n",
       "      <td>128</td>\n",
       "    </tr>\n",
       "    <tr>\n",
       "      <th>2</th>\n",
       "      <td>0</td>\n",
       "      <td>0</td>\n",
       "      <td>0</td>\n",
       "      <td>0</td>\n",
       "      <td>5</td>\n",
       "      <td>0</td>\n",
       "      <td>539.4</td>\n",
       "      <td>155</td>\n",
       "    </tr>\n",
       "    <tr>\n",
       "      <th>3</th>\n",
       "      <td>0</td>\n",
       "      <td>2</td>\n",
       "      <td>1</td>\n",
       "      <td>0</td>\n",
       "      <td>7</td>\n",
       "      <td>0</td>\n",
       "      <td>564.8</td>\n",
       "      <td>128</td>\n",
       "    </tr>\n",
       "    <tr>\n",
       "      <th>4</th>\n",
       "      <td>0</td>\n",
       "      <td>3</td>\n",
       "      <td>1</td>\n",
       "      <td>0</td>\n",
       "      <td>3</td>\n",
       "      <td>0</td>\n",
       "      <td>512.0</td>\n",
       "      <td>107</td>\n",
       "    </tr>\n",
       "  </tbody>\n",
       "</table>\n",
       "</div>"
      ],
      "text/plain": [
       "   VMail Message  CustServ Calls  Intl Plan  VMail Plan  Intl Calls  Churn  \\\n",
       "0             25               1          0           1           3      0   \n",
       "1             26               1          0           1           3      0   \n",
       "2              0               0          0           0           5      0   \n",
       "3              0               2          1           0           7      0   \n",
       "4              0               3          1           0           3      0   \n",
       "\n",
       "   total_mins  State_enc  \n",
       "0       717.2        143  \n",
       "1       625.2        128  \n",
       "2       539.4        155  \n",
       "3       564.8        128  \n",
       "4       512.0        107  "
      ]
     },
     "execution_count": 377,
     "metadata": {},
     "output_type": "execute_result"
    }
   ],
   "source": [
    "df.drop(columns='State', inplace = True)\n",
    "df.head()"
   ]
  },
  {
   "cell_type": "code",
   "execution_count": 378,
   "id": "411081ee",
   "metadata": {},
   "outputs": [],
   "source": [
    "X = df.drop(columns=['Churn'])\n",
    "y = df.Churn"
   ]
  },
  {
   "cell_type": "code",
   "execution_count": 380,
   "id": "b1e75bc0",
   "metadata": {},
   "outputs": [
    {
     "data": {
      "text/html": [
       "<div>\n",
       "<style scoped>\n",
       "    .dataframe tbody tr th:only-of-type {\n",
       "        vertical-align: middle;\n",
       "    }\n",
       "\n",
       "    .dataframe tbody tr th {\n",
       "        vertical-align: top;\n",
       "    }\n",
       "\n",
       "    .dataframe thead th {\n",
       "        text-align: right;\n",
       "    }\n",
       "</style>\n",
       "<table border=\"1\" class=\"dataframe\">\n",
       "  <thead>\n",
       "    <tr style=\"text-align: right;\">\n",
       "      <th></th>\n",
       "      <th>VMail Message</th>\n",
       "      <th>CustServ Calls</th>\n",
       "      <th>Intl Plan</th>\n",
       "      <th>VMail Plan</th>\n",
       "      <th>Intl Calls</th>\n",
       "      <th>total_mins</th>\n",
       "      <th>State_enc</th>\n",
       "    </tr>\n",
       "  </thead>\n",
       "  <tbody>\n",
       "    <tr>\n",
       "      <th>0</th>\n",
       "      <td>25</td>\n",
       "      <td>1</td>\n",
       "      <td>0</td>\n",
       "      <td>1</td>\n",
       "      <td>3</td>\n",
       "      <td>717.2</td>\n",
       "      <td>143</td>\n",
       "    </tr>\n",
       "    <tr>\n",
       "      <th>1</th>\n",
       "      <td>26</td>\n",
       "      <td>1</td>\n",
       "      <td>0</td>\n",
       "      <td>1</td>\n",
       "      <td>3</td>\n",
       "      <td>625.2</td>\n",
       "      <td>128</td>\n",
       "    </tr>\n",
       "    <tr>\n",
       "      <th>2</th>\n",
       "      <td>0</td>\n",
       "      <td>0</td>\n",
       "      <td>0</td>\n",
       "      <td>0</td>\n",
       "      <td>5</td>\n",
       "      <td>539.4</td>\n",
       "      <td>155</td>\n",
       "    </tr>\n",
       "    <tr>\n",
       "      <th>3</th>\n",
       "      <td>0</td>\n",
       "      <td>2</td>\n",
       "      <td>1</td>\n",
       "      <td>0</td>\n",
       "      <td>7</td>\n",
       "      <td>564.8</td>\n",
       "      <td>128</td>\n",
       "    </tr>\n",
       "    <tr>\n",
       "      <th>4</th>\n",
       "      <td>0</td>\n",
       "      <td>3</td>\n",
       "      <td>1</td>\n",
       "      <td>0</td>\n",
       "      <td>3</td>\n",
       "      <td>512.0</td>\n",
       "      <td>107</td>\n",
       "    </tr>\n",
       "  </tbody>\n",
       "</table>\n",
       "</div>"
      ],
      "text/plain": [
       "   VMail Message  CustServ Calls  Intl Plan  VMail Plan  Intl Calls  \\\n",
       "0             25               1          0           1           3   \n",
       "1             26               1          0           1           3   \n",
       "2              0               0          0           0           5   \n",
       "3              0               2          1           0           7   \n",
       "4              0               3          1           0           3   \n",
       "\n",
       "   total_mins  State_enc  \n",
       "0       717.2        143  \n",
       "1       625.2        128  \n",
       "2       539.4        155  \n",
       "3       564.8        128  \n",
       "4       512.0        107  "
      ]
     },
     "execution_count": 380,
     "metadata": {},
     "output_type": "execute_result"
    }
   ],
   "source": [
    "X.head()"
   ]
  },
  {
   "cell_type": "markdown",
   "id": "e82b30cd",
   "metadata": {},
   "source": [
    "##### Standerizing the data"
   ]
  },
  {
   "cell_type": "code",
   "execution_count": 382,
   "id": "1593b9e3",
   "metadata": {},
   "outputs": [
    {
     "data": {
      "text/html": [
       "<div>\n",
       "<style scoped>\n",
       "    .dataframe tbody tr th:only-of-type {\n",
       "        vertical-align: middle;\n",
       "    }\n",
       "\n",
       "    .dataframe tbody tr th {\n",
       "        vertical-align: top;\n",
       "    }\n",
       "\n",
       "    .dataframe thead th {\n",
       "        text-align: right;\n",
       "    }\n",
       "</style>\n",
       "<table border=\"1\" class=\"dataframe\">\n",
       "  <thead>\n",
       "    <tr style=\"text-align: right;\">\n",
       "      <th></th>\n",
       "      <th>0</th>\n",
       "      <th>1</th>\n",
       "      <th>2</th>\n",
       "      <th>3</th>\n",
       "      <th>4</th>\n",
       "      <th>5</th>\n",
       "      <th>6</th>\n",
       "    </tr>\n",
       "  </thead>\n",
       "  <tbody>\n",
       "    <tr>\n",
       "      <th>0</th>\n",
       "      <td>0.490196</td>\n",
       "      <td>0.111111</td>\n",
       "      <td>0.0</td>\n",
       "      <td>1.0</td>\n",
       "      <td>0.15</td>\n",
       "      <td>0.720659</td>\n",
       "      <td>0.761905</td>\n",
       "    </tr>\n",
       "    <tr>\n",
       "      <th>1</th>\n",
       "      <td>0.509804</td>\n",
       "      <td>0.111111</td>\n",
       "      <td>0.0</td>\n",
       "      <td>1.0</td>\n",
       "      <td>0.15</td>\n",
       "      <td>0.567505</td>\n",
       "      <td>0.619048</td>\n",
       "    </tr>\n",
       "    <tr>\n",
       "      <th>2</th>\n",
       "      <td>0.000000</td>\n",
       "      <td>0.000000</td>\n",
       "      <td>0.0</td>\n",
       "      <td>0.0</td>\n",
       "      <td>0.25</td>\n",
       "      <td>0.424671</td>\n",
       "      <td>0.876190</td>\n",
       "    </tr>\n",
       "    <tr>\n",
       "      <th>3</th>\n",
       "      <td>0.000000</td>\n",
       "      <td>0.222222</td>\n",
       "      <td>1.0</td>\n",
       "      <td>0.0</td>\n",
       "      <td>0.35</td>\n",
       "      <td>0.466955</td>\n",
       "      <td>0.619048</td>\n",
       "    </tr>\n",
       "    <tr>\n",
       "      <th>4</th>\n",
       "      <td>0.000000</td>\n",
       "      <td>0.333333</td>\n",
       "      <td>1.0</td>\n",
       "      <td>0.0</td>\n",
       "      <td>0.15</td>\n",
       "      <td>0.379058</td>\n",
       "      <td>0.419048</td>\n",
       "    </tr>\n",
       "  </tbody>\n",
       "</table>\n",
       "</div>"
      ],
      "text/plain": [
       "          0         1    2    3     4         5         6\n",
       "0  0.490196  0.111111  0.0  1.0  0.15  0.720659  0.761905\n",
       "1  0.509804  0.111111  0.0  1.0  0.15  0.567505  0.619048\n",
       "2  0.000000  0.000000  0.0  0.0  0.25  0.424671  0.876190\n",
       "3  0.000000  0.222222  1.0  0.0  0.35  0.466955  0.619048\n",
       "4  0.000000  0.333333  1.0  0.0  0.15  0.379058  0.419048"
      ]
     },
     "execution_count": 382,
     "metadata": {},
     "output_type": "execute_result"
    }
   ],
   "source": [
    "from sklearn.preprocessing import MinMaxScaler\n",
    "scaler = MinMaxScaler()\n",
    "X = scaler.fit_transform(X)\n",
    "X = pd.DataFrame(X)\n",
    "X.head()"
   ]
  },
  {
   "cell_type": "markdown",
   "id": "b84ebce9",
   "metadata": {},
   "source": [
    "##### splitting the data into train and test"
   ]
  },
  {
   "cell_type": "code",
   "execution_count": 383,
   "id": "5ce73624",
   "metadata": {},
   "outputs": [],
   "source": [
    "from sklearn.model_selection import train_test_split\n",
    "X_train, X_test, y_train, y_test = train_test_split(X,y,test_size=0.2, random_state=42)"
   ]
  },
  {
   "cell_type": "markdown",
   "id": "bf458789",
   "metadata": {},
   "source": [
    "##### logistic regression:"
   ]
  },
  {
   "cell_type": "code",
   "execution_count": 391,
   "id": "5beb5f67",
   "metadata": {},
   "outputs": [],
   "source": [
    "from sklearn.linear_model import LogisticRegression\n",
    "model = LogisticRegression()\n",
    "model.fit(X_train, y_train)\n",
    "y_pred = model.predict(X_test)"
   ]
  },
  {
   "cell_type": "code",
   "execution_count": 392,
   "id": "38a2720f",
   "metadata": {},
   "outputs": [
    {
     "data": {
      "text/plain": [
       "array([[444, 141],\n",
       "       [125, 430]], dtype=int64)"
      ]
     },
     "execution_count": 392,
     "metadata": {},
     "output_type": "execute_result"
    }
   ],
   "source": [
    "from sklearn.metrics import confusion_matrix, classification_report\n",
    "confusion_matrix(y_test,y_pred)"
   ]
  },
  {
   "cell_type": "code",
   "execution_count": 393,
   "id": "4763c235",
   "metadata": {},
   "outputs": [
    {
     "name": "stdout",
     "output_type": "stream",
     "text": [
      "              precision    recall  f1-score   support\n",
      "\n",
      "           0       0.78      0.76      0.77       585\n",
      "           1       0.75      0.77      0.76       555\n",
      "\n",
      "    accuracy                           0.77      1140\n",
      "   macro avg       0.77      0.77      0.77      1140\n",
      "weighted avg       0.77      0.77      0.77      1140\n",
      "\n"
     ]
    }
   ],
   "source": [
    "print(classification_report(y_test,y_pred))"
   ]
  },
  {
   "cell_type": "markdown",
   "id": "2c2702aa",
   "metadata": {},
   "source": [
    "##### KNN:"
   ]
  },
  {
   "cell_type": "code",
   "execution_count": 394,
   "id": "39e57094",
   "metadata": {},
   "outputs": [
    {
     "data": {
      "text/plain": [
       "array([[476, 109],\n",
       "       [ 20, 535]], dtype=int64)"
      ]
     },
     "execution_count": 394,
     "metadata": {},
     "output_type": "execute_result"
    }
   ],
   "source": [
    "from sklearn.neighbors import KNeighborsClassifier\n",
    "model = KNeighborsClassifier()\n",
    "model.fit(X_train, y_train)\n",
    "y_pred_knn = model.predict(X_test)\n",
    "confusion_matrix(y_test,y_pred_knn)"
   ]
  },
  {
   "cell_type": "code",
   "execution_count": 395,
   "id": "e465836e",
   "metadata": {},
   "outputs": [
    {
     "name": "stdout",
     "output_type": "stream",
     "text": [
      "              precision    recall  f1-score   support\n",
      "\n",
      "           0       0.96      0.81      0.88       585\n",
      "           1       0.83      0.96      0.89       555\n",
      "\n",
      "    accuracy                           0.89      1140\n",
      "   macro avg       0.90      0.89      0.89      1140\n",
      "weighted avg       0.90      0.89      0.89      1140\n",
      "\n"
     ]
    }
   ],
   "source": [
    "print(classification_report(y_test,y_pred_knn))"
   ]
  },
  {
   "cell_type": "markdown",
   "id": "78d07628",
   "metadata": {},
   "source": [
    "##### Obs: knn is perfroming better than logistic regression in terms of accuracy"
   ]
  },
  {
   "cell_type": "markdown",
   "id": "8f2e21d3",
   "metadata": {},
   "source": [
    "##### here knn is performing really good in terms of recall...ie it's predicting almost 96% true positives out of all actual postives...which is required here in this business case"
   ]
  },
  {
   "cell_type": "code",
   "execution_count": 408,
   "id": "e5e3d3a8",
   "metadata": {},
   "outputs": [
    {
     "data": {
      "text/plain": [
       "array([[476, 109],\n",
       "       [ 20, 535]], dtype=int64)"
      ]
     },
     "execution_count": 408,
     "metadata": {},
     "output_type": "execute_result"
    }
   ],
   "source": [
    "from sklearn.neighbors import KNeighborsClassifier\n",
    "model = KNeighborsClassifier()\n",
    "model.fit(X_train, y_train)\n",
    "y_pred_knn = model.predict(X_test)\n",
    "confusion_matrix(y_test,y_pred_knn)"
   ]
  },
  {
   "cell_type": "markdown",
   "id": "5a122ec4",
   "metadata": {},
   "source": [
    "##### let's check with different values of k"
   ]
  },
  {
   "cell_type": "code",
   "execution_count": 409,
   "id": "4979a121",
   "metadata": {},
   "outputs": [],
   "source": [
    "train_score = []\n",
    "test_score = []\n",
    "from sklearn.metrics import accuracy_score\n",
    "for i in range(1,40):\n",
    "    model = KNeighborsClassifier(n_neighbors=i)\n",
    "    model.fit(X_train, y_train)\n",
    "    y1_pred_knn = model.predict(X_train)\n",
    "    y2_pred_knn = model.predict(X_test)\n",
    "    train_score.append(accuracy_score(y_train,y1_pred_knn))\n",
    "    test_score.append(accuracy_score(y_test,y2_pred_knn))"
   ]
  },
  {
   "cell_type": "markdown",
   "id": "1a8ca105",
   "metadata": {},
   "source": [
    "##### plotting with accuracy score"
   ]
  },
  {
   "cell_type": "code",
   "execution_count": 410,
   "id": "cd17ed90",
   "metadata": {},
   "outputs": [
    {
     "data": {
      "image/png": "[encoded data removed]",
      "text/plain": [
       "<Figure size 432x288 with 1 Axes>"
      ]
     },
     "metadata": {
      "needs_background": "light"
     },
     "output_type": "display_data"
    }
   ],
   "source": [
    "plt.plot(train_score)\n",
    "plt.plot(test_score)\n",
    "plt.grid()"
   ]
  },
  {
   "cell_type": "code",
   "execution_count": 412,
   "id": "1e6d59bd",
   "metadata": {},
   "outputs": [],
   "source": [
    "train_rec_score = []\n",
    "test_rec_score = []\n",
    "from sklearn.metrics import recall_score\n",
    "for i in range(1,40):\n",
    "    model = KNeighborsClassifier(n_neighbors=i)\n",
    "    model.fit(X_train, y_train)\n",
    "    y1_pred_knn = model.predict(X_train)\n",
    "    y2_pred_knn = model.predict(X_test)\n",
    "    train_rec_score.append(recall_score(y_train,y1_pred_knn))\n",
    "    test_rec_score.append(recall_score(y_test,y2_pred_knn))"
   ]
  },
  {
   "cell_type": "markdown",
   "id": "a3d89613",
   "metadata": {},
   "source": [
    "##### plotting with recall score"
   ]
  },
  {
   "cell_type": "code",
   "execution_count": 413,
   "id": "11081fee",
   "metadata": {},
   "outputs": [
    {
     "data": {
      "image/png": "[encoded data removed]",
      "text/plain": [
       "<Figure size 432x288 with 1 Axes>"
      ]
     },
     "metadata": {
      "needs_background": "light"
     },
     "output_type": "display_data"
    }
   ],
   "source": [
    "plt.plot(train_rec_score)\n",
    "plt.plot(test_rec_score)\n",
    "plt.grid()"
   ]
  },
  {
   "cell_type": "markdown",
   "id": "45d4f32c",
   "metadata": {},
   "source": [
    "##### but here we can observe some contradiction, how could the test data has this high accuracy with k = 1"
   ]
  },
  {
   "cell_type": "markdown",
   "id": "65882fb1",
   "metadata": {},
   "source": [
    "##### let's replot the same graph with splitting the data once again with different random state"
   ]
  },
  {
   "cell_type": "code",
   "execution_count": 418,
   "id": "7aec0eb4",
   "metadata": {},
   "outputs": [
    {
     "data": {
      "text/plain": [
       "[<matplotlib.lines.Line2D at 0x20213086130>]"
      ]
     },
     "execution_count": 418,
     "metadata": {},
     "output_type": "execute_result"
    },
    {
     "data": {
      "image/png": "[encoded data removed]",
      "text/plain": [
       "<Figure size 432x288 with 1 Axes>"
      ]
     },
     "metadata": {
      "needs_background": "light"
     },
     "output_type": "display_data"
    }
   ],
   "source": [
    "from sklearn.model_selection import train_test_split\n",
    "X_train, X_test, y_train, y_test = train_test_split(X,y,test_size=0.2, random_state=50)\n",
    "\n",
    "train_score = []\n",
    "test_score = []\n",
    "from sklearn.metrics import accuracy_score\n",
    "for i in range(1,40):\n",
    "    model = KNeighborsClassifier(n_neighbors=i)\n",
    "    model.fit(X_train, y_train)\n",
    "    y1_pred_knn = model.predict(X_train)\n",
    "    y2_pred_knn = model.predict(X_test)\n",
    "    train_score.append(accuracy_score(y_train,y1_pred_knn))\n",
    "    test_score.append(accuracy_score(y_test,y2_pred_knn))\n",
    "\n",
    "plt.plot(train_score)\n",
    "plt.plot(test_score)"
   ]
  },
  {
   "cell_type": "markdown",
   "id": "1d0da120",
   "metadata": {},
   "source": [
    "##### kind of similar nature: could be explained based off the nature of the data"
   ]
  },
  {
   "cell_type": "markdown",
   "id": "4f296def",
   "metadata": {},
   "source": [
    "##### logistic regression with different random state"
   ]
  },
  {
   "cell_type": "code",
   "execution_count": 422,
   "id": "a467a47b",
   "metadata": {},
   "outputs": [
    {
     "name": "stdout",
     "output_type": "stream",
     "text": [
      "              precision    recall  f1-score   support\n",
      "\n",
      "           0       0.78      0.79      0.78       575\n",
      "           1       0.78      0.77      0.78       565\n",
      "\n",
      "    accuracy                           0.78      1140\n",
      "   macro avg       0.78      0.78      0.78      1140\n",
      "weighted avg       0.78      0.78      0.78      1140\n",
      "\n"
     ]
    }
   ],
   "source": [
    "from sklearn.model_selection import train_test_split\n",
    "X_train, X_test, y_train, y_test = train_test_split(X,y,test_size=0.2, random_state=43)\n",
    "\n",
    "from sklearn.linear_model import LogisticRegression\n",
    "model = LogisticRegression()\n",
    "model.fit(X_train, y_train)\n",
    "y_pred_new = model.predict(X_test)\n",
    "\n",
    "from sklearn.metrics import classification_report\n",
    "print(classification_report(y_pred_new,y_test))"
   ]
  },
  {
   "cell_type": "markdown",
   "id": "c61d8767",
   "metadata": {},
   "source": [
    "#### now let's plot the ruc-auc curve for the logistic regression model"
   ]
  },
  {
   "cell_type": "code",
   "execution_count": 433,
   "id": "f791480d",
   "metadata": {},
   "outputs": [
    {
     "data": {
      "text/plain": [
       "0.8458520058520058"
      ]
     },
     "execution_count": 433,
     "metadata": {},
     "output_type": "execute_result"
    }
   ],
   "source": [
    "y_prob = model.predict_proba(X_test)\n",
    "from sklearn.metrics import roc_auc_score\n",
    "# tpr, fpr, thresholds = roc_auc_score(y_test,pd.DataFrame(y_prob[:,1]))\n",
    "auc = roc_auc_score(y_test, y_prob[:,1])\n",
    "auc"
   ]
  },
  {
   "cell_type": "code",
   "execution_count": 435,
   "id": "ab9b6221",
   "metadata": {},
   "outputs": [],
   "source": [
    "from sklearn.metrics import roc_curve\n",
    "fpr, tpr, thresholds = roc_curve(y_test, y_prob[:,1])"
   ]
  },
  {
   "cell_type": "code",
   "execution_count": 437,
   "id": "da3ce848",
   "metadata": {},
   "outputs": [
    {
     "data": {
      "image/png": "[encoded data removed]",
      "text/plain": [
       "<Figure size 432x288 with 1 Axes>"
      ]
     },
     "metadata": {
      "needs_background": "light"
     },
     "output_type": "display_data"
    }
   ],
   "source": [
    "plt.figure()\n",
    "plt.plot(fpr, tpr, label='ROC curve (AUC = {:.2f})'.format(auc))\n",
    "plt.plot([0, 1], [0, 1], 'k--')  # Diagonal line representing random guessing\n",
    "plt.xlabel('False Positive Rate')\n",
    "plt.ylabel('True Positive Rate')\n",
    "plt.title('Receiver Operating Characteristic (ROC) Curve')\n",
    "plt.legend(loc='lower right')\n",
    "plt.show()\n",
    "\n"
   ]
  },
  {
   "cell_type": "markdown",
   "id": "e7f5d1f6",
   "metadata": {},
   "source": [
    "##### ROC score: 0.85 is quite good!"
   ]
  },
  {
   "cell_type": "code",
   "execution_count": 439,
   "id": "3bae567f",
   "metadata": {},
   "outputs": [
    {
     "data": {
      "image/png": "[encoded data removed]",
      "text/plain": [
       "<Figure size 432x288 with 1 Axes>"
      ]
     },
     "metadata": {
      "needs_background": "light"
     },
     "output_type": "display_data"
    }
   ],
   "source": [
    "from sklearn.metrics import precision_recall_curve, average_precision_score\n",
    "\n",
    "y_prob = model.predict_proba(X_test)\n",
    "precision, recall, _ = precision_recall_curve(y_test, y_prob[:, 1])\n",
    "average_precision = average_precision_score(y_test, y_prob[:, 1])\n",
    "\n",
    "# Plot PR curve\n",
    "plt.figure()\n",
    "plt.plot(recall, precision, label='PR curve (AP = {:.2f})'.format(average_precision))\n",
    "plt.xlabel('Recall')\n",
    "plt.ylabel('Precision')\n",
    "plt.title('Precision-Recall Curve')\n",
    "plt.legend(loc='lower left')\n",
    "plt.show()\n"
   ]
  },
  {
   "cell_type": "markdown",
   "id": "a4b62cc7",
   "metadata": {},
   "source": [
    "##### observation: descent performance "
   ]
  },
  {
   "cell_type": "markdown",
   "id": "f7093141",
   "metadata": {},
   "source": [
    "### if anywhere in the notebook you find any point of disscussion pls comment down below!"
   ]
  },
  {
   "cell_type": "markdown",
   "id": "42f87b8f",
   "metadata": {},
   "source": [
    "##### thanks and have a good day!"
   ]
  },
  {
   "cell_type": "code",
   "execution_count": null,
   "id": "e5dc881a",
   "metadata": {},
   "outputs": [],
   "source": []
  }
 ],
 "metadata": {
  "kernelspec": {
   "display_name": "Python 3 (ipykernel)",
   "language": "python",
   "name": "python3"
  },
  "language_info": {
   "codemirror_mode": {
    "name": "ipython",
    "version": 3
   },
   "file_extension": ".py",
   "mimetype": "text/x-python",
   "name": "python",
   "nbconvert_exporter": "python",
   "pygments_lexer": "ipython3",
   "version": "3.9.12"
  }
 },
 "nbformat": 4,
 "nbformat_minor": 5
}
